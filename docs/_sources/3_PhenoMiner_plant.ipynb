{
 "cells": [
  {
   "cell_type": "markdown",
   "metadata": {},
   "source": [
    "# Pathak: Example"
   ]
  },
  {
   "cell_type": "markdown",
   "metadata": {},
   "source": [
    "<div class=\"alert alert-block alert-info\">\n",
    "    <h2>🐍Load Python libraries</h2>\n",
    "</div>"
   ]
  },
  {
   "cell_type": "code",
   "execution_count": 58,
   "metadata": {},
   "outputs": [],
   "source": [
    "import os\n",
    "from pathlib import Path\n",
    "import pickle\n",
    "import os.path\n",
    "\n",
    "import requests\n",
    "import pickle\n",
    "import re\n",
    "import json\n",
    "import typing\n",
    "\n",
    "\n",
    "import networkx as nx\n",
    "import numpy as np\n",
    "import pandas as pd\n",
    "from sklearn.metrics.pairwise import cosine_similarity\n",
    "\n",
    "import nlu\n",
    "import nltk\n",
    "# nltk.download('punkt')\n",
    "from nltk.tokenize import word_tokenize  \n",
    "from nltk import FreqDist, sent_tokenize, word_tokenize # $ pip install nltk\n",
    "\n",
    "from bs4 import BeautifulSoup\n",
    "\n",
    "from IPython.display import display\n",
    "import seaborn as sns\n",
    "import matplotlib.pyplot as plt\n",
    "import plotly.graph_objects as go\n",
    "import plotly.io as pio\n",
    "# pio.renderers\n",
    "pio.renderers.default = \"svg\"\n",
    "\n",
    "from itertools import chain\n",
    "from tqdm.notebook import tqdm, trange\n",
    "import warnings\n",
    "import session_info\n",
    "import time\n",
    "start = time.time()"
   ]
  },
  {
   "cell_type": "markdown",
   "metadata": {},
   "source": [
    "<div class=\"alert alert-block alert-warning\">\n",
    "    <h2><b>Environment setup: </b>Make sure java is loaded</h2>\n",
    "</div>"
   ]
  },
  {
   "cell_type": "markdown",
   "metadata": {},
   "source": [
    "#### Load Java 8 and Set Java home directory"
   ]
  },
  {
   "cell_type": "code",
   "execution_count": 43,
   "metadata": {},
   "outputs": [
    {
     "name": "stdout",
     "output_type": "stream",
     "text": [
      "java version \"1.8.0_202\"\n",
      "Java(TM) SE Runtime Environment (build 1.8.0_202-b08)\n",
      "Java HotSpot(TM) 64-Bit Server VM (build 25.202-b08, mixed mode)\n"
     ]
    }
   ],
   "source": [
    "# Load Java 8 required by nlu and Pyspark\n",
    "# !module load Java/1.8.0_202\n",
    "!java -version"
   ]
  },
  {
   "cell_type": "code",
   "execution_count": 44,
   "metadata": {},
   "outputs": [],
   "source": [
    "# Set Java home directory cheaha\n",
    "os.environ[\"JAVA_HOME\"] = os.environ[\"JAVA_HOME\"]\n",
    "os.environ[\"PATH\"] = os.environ[\"JAVA_HOME\"] + \"/bin:\" + os.environ[\"PATH\"]"
   ]
  },
  {
   "cell_type": "markdown",
   "metadata": {},
   "source": [
    "```\n",
    "print(os.environ[\"JAVA_HOME\"])\n",
    "```"
   ]
  },
  {
   "cell_type": "markdown",
   "metadata": {},
   "source": [
    "<div class=\"alert alert-block alert-info\">\n",
    "    <h2>Set spark environment varibales</h2>\n",
    "</div>"
   ]
  },
  {
   "cell_type": "code",
   "execution_count": 45,
   "metadata": {},
   "outputs": [],
   "source": [
    "os.environ['PYSPARK_PYTHON'] = '/home/nileshkr/.conda/envs/sparknlp/bin/python3.8'\n",
    "os.environ['PYSPARK_DRIVER_PYTHON'] = '/home/nileshkr/.conda/envs/sparknlp/bin/python3.8'"
   ]
  },
  {
   "cell_type": "markdown",
   "metadata": {},
   "source": [
    "<div class=\"alert alert-block alert-info\">\n",
    "    <h2>Load pretrained model and supporting file</h2>\n",
    "</div>"
   ]
  },
  {
   "cell_type": "code",
   "execution_count": 46,
   "metadata": {},
   "outputs": [
    {
     "data": {
      "text/html": [
       "<div>\n",
       "<style scoped>\n",
       "    .dataframe tbody tr th:only-of-type {\n",
       "        vertical-align: middle;\n",
       "    }\n",
       "\n",
       "    .dataframe tbody tr th {\n",
       "        vertical-align: top;\n",
       "    }\n",
       "\n",
       "    .dataframe thead th {\n",
       "        text-align: right;\n",
       "    }\n",
       "</style>\n",
       "<table border=\"1\" class=\"dataframe\">\n",
       "  <thead>\n",
       "    <tr style=\"text-align: right;\">\n",
       "      <th></th>\n",
       "      <th>document</th>\n",
       "      <th>sentence_embedding_biobert</th>\n",
       "    </tr>\n",
       "  </thead>\n",
       "  <tbody>\n",
       "    <tr>\n",
       "      <th>0</th>\n",
       "      <td>The maintenance of the structure and integrity...</td>\n",
       "      <td>[-0.1828726977109909, 0.25272125005722046, -0....</td>\n",
       "    </tr>\n",
       "    <tr>\n",
       "      <th>1</th>\n",
       "      <td>The production of new individuals that contain...</td>\n",
       "      <td>[-0.031625792384147644, 0.027806805446743965, ...</td>\n",
       "    </tr>\n",
       "    <tr>\n",
       "      <th>2</th>\n",
       "      <td>The repair of single strand breaks in DNA.</td>\n",
       "      <td>[-0.05223826691508293, -0.028281446546316147, ...</td>\n",
       "    </tr>\n",
       "    <tr>\n",
       "      <th>3</th>\n",
       "      <td>Repair of such breaks is mediated by the same ...</td>\n",
       "      <td>[0.02170223370194435, -0.04093412682414055, -0...</td>\n",
       "    </tr>\n",
       "    <tr>\n",
       "      <th>4</th>\n",
       "      <td>Catalysis of the hydrolysis of ester linkages ...</td>\n",
       "      <td>[-0.00821786466985941, -0.23827922344207764, -...</td>\n",
       "    </tr>\n",
       "    <tr>\n",
       "      <th>...</th>\n",
       "      <td>...</td>\n",
       "      <td>...</td>\n",
       "    </tr>\n",
       "    <tr>\n",
       "      <th>5614</th>\n",
       "      <td>Any process that activates or increases the fr...</td>\n",
       "      <td>[0.053574178367853165, -0.080331951379776, -0....</td>\n",
       "    </tr>\n",
       "    <tr>\n",
       "      <th>5615</th>\n",
       "      <td>Any process that activates or increases the fr...</td>\n",
       "      <td>[0.015425608493387699, -0.013072511181235313, ...</td>\n",
       "    </tr>\n",
       "    <tr>\n",
       "      <th>5616</th>\n",
       "      <td>The chemical reactions and pathways involving ...</td>\n",
       "      <td>[0.0855507105588913, -0.05061568692326546, -0....</td>\n",
       "    </tr>\n",
       "    <tr>\n",
       "      <th>5617</th>\n",
       "      <td>The chemical reactions and pathways resulting ...</td>\n",
       "      <td>[0.11358797550201416, -0.13088946044445038, -0...</td>\n",
       "    </tr>\n",
       "    <tr>\n",
       "      <th>5618</th>\n",
       "      <td>The chemical reactions and pathways resulting ...</td>\n",
       "      <td>[0.11483287811279297, -0.15022939443588257, -0...</td>\n",
       "    </tr>\n",
       "  </tbody>\n",
       "</table>\n",
       "<p>5619 rows × 2 columns</p>\n",
       "</div>"
      ],
      "text/plain": [
       "                                               document  \\\n",
       "0     The maintenance of the structure and integrity...   \n",
       "1     The production of new individuals that contain...   \n",
       "2            The repair of single strand breaks in DNA.   \n",
       "3     Repair of such breaks is mediated by the same ...   \n",
       "4     Catalysis of the hydrolysis of ester linkages ...   \n",
       "...                                                 ...   \n",
       "5614  Any process that activates or increases the fr...   \n",
       "5615  Any process that activates or increases the fr...   \n",
       "5616  The chemical reactions and pathways involving ...   \n",
       "5617  The chemical reactions and pathways resulting ...   \n",
       "5618  The chemical reactions and pathways resulting ...   \n",
       "\n",
       "                             sentence_embedding_biobert  \n",
       "0     [-0.1828726977109909, 0.25272125005722046, -0....  \n",
       "1     [-0.031625792384147644, 0.027806805446743965, ...  \n",
       "2     [-0.05223826691508293, -0.028281446546316147, ...  \n",
       "3     [0.02170223370194435, -0.04093412682414055, -0...  \n",
       "4     [-0.00821786466985941, -0.23827922344207764, -...  \n",
       "...                                                 ...  \n",
       "5614  [0.053574178367853165, -0.080331951379776, -0....  \n",
       "5615  [0.015425608493387699, -0.013072511181235313, ...  \n",
       "5616  [0.0855507105588913, -0.05061568692326546, -0....  \n",
       "5617  [0.11358797550201416, -0.13088946044445038, -0...  \n",
       "5618  [0.11483287811279297, -0.15022939443588257, -0...  \n",
       "\n",
       "[5619 rows x 2 columns]"
      ]
     },
     "metadata": {},
     "output_type": "display_data"
    },
    {
     "name": "stdout",
     "output_type": "stream",
     "text": [
      "CPU times: user 62 ms, sys: 39.1 ms, total: 101 ms\n",
      "Wall time: 155 ms\n"
     ]
    }
   ],
   "source": [
    "%%time\n",
    "\n",
    "df = pd.read_csv('GO_BP_Ontology_corups_Filtered.tsv', sep=\"\\t\")\n",
    "\n",
    "with open('predictions_full_BP.pickle', 'rb') as handle:\n",
    "    predictions = pickle.load(handle)\n",
    "display(predictions)"
   ]
  },
  {
   "cell_type": "code",
   "execution_count": 47,
   "metadata": {},
   "outputs": [
    {
     "name": "stdout",
     "output_type": "stream",
     "text": [
      "CPU times: user 15.9 ms, sys: 5.59 ms, total: 21.5 ms\n",
      "Wall time: 2.9 s\n"
     ]
    }
   ],
   "source": [
    "%%time\n",
    "## Calculate dinstance between all pairs of sentences in DF \n",
    "e_col = 'sentence_embedding_biobert'\n",
    "stored_model_path = \"pipe_full_BP\"\n",
    "pipe = nlu.load(path=stored_model_path)"
   ]
  },
  {
   "cell_type": "markdown",
   "metadata": {},
   "source": [
    "<div class=\"alert alert-block alert-info\">\n",
    "    <h3><b>Function:</b> Calculation of cosine similarity score.</h>\n",
    "</div>"
   ]
  },
  {
   "cell_type": "code",
   "execution_count": 48,
   "metadata": {},
   "outputs": [
    {
     "data": {
      "text/html": [
       "<div>\n",
       "<style scoped>\n",
       "    .dataframe tbody tr th:only-of-type {\n",
       "        vertical-align: middle;\n",
       "    }\n",
       "\n",
       "    .dataframe tbody tr th {\n",
       "        vertical-align: top;\n",
       "    }\n",
       "\n",
       "    .dataframe thead th {\n",
       "        text-align: right;\n",
       "    }\n",
       "</style>\n",
       "<table border=\"1\" class=\"dataframe\">\n",
       "  <thead>\n",
       "    <tr style=\"text-align: right;\">\n",
       "      <th></th>\n",
       "      <th>GO</th>\n",
       "      <th>Name</th>\n",
       "      <th>Definition</th>\n",
       "      <th>Depth</th>\n",
       "      <th>sim_score</th>\n",
       "    </tr>\n",
       "  </thead>\n",
       "  <tbody>\n",
       "    <tr>\n",
       "      <th>0</th>\n",
       "      <td>GO:0000002</td>\n",
       "      <td>mitochondrial genome maintenance.</td>\n",
       "      <td>The maintenance of the structure and integrity...</td>\n",
       "      <td>6</td>\n",
       "      <td>0.658170</td>\n",
       "    </tr>\n",
       "    <tr>\n",
       "      <th>1</th>\n",
       "      <td>GO:0000003</td>\n",
       "      <td>reproduction.</td>\n",
       "      <td>The production of new individuals that contain...</td>\n",
       "      <td>1</td>\n",
       "      <td>0.679071</td>\n",
       "    </tr>\n",
       "    <tr>\n",
       "      <th>2</th>\n",
       "      <td>GO:0000012</td>\n",
       "      <td>single strand break repair.</td>\n",
       "      <td>The repair of single strand breaks in DNA.</td>\n",
       "      <td>6</td>\n",
       "      <td>0.665612</td>\n",
       "    </tr>\n",
       "    <tr>\n",
       "      <th>3</th>\n",
       "      <td>GO:0000012</td>\n",
       "      <td>single strand break repair.</td>\n",
       "      <td>Repair of such breaks is mediated by the same ...</td>\n",
       "      <td>6</td>\n",
       "      <td>0.643082</td>\n",
       "    </tr>\n",
       "    <tr>\n",
       "      <th>4</th>\n",
       "      <td>GO:0000014</td>\n",
       "      <td>single-stranded DNA endodeoxyribonuclease acti...</td>\n",
       "      <td>Catalysis of the hydrolysis of ester linkages ...</td>\n",
       "      <td>8</td>\n",
       "      <td>0.631392</td>\n",
       "    </tr>\n",
       "    <tr>\n",
       "      <th>...</th>\n",
       "      <td>...</td>\n",
       "      <td>...</td>\n",
       "      <td>...</td>\n",
       "      <td>...</td>\n",
       "      <td>...</td>\n",
       "    </tr>\n",
       "    <tr>\n",
       "      <th>5614</th>\n",
       "      <td>GO:2001235</td>\n",
       "      <td>positive regulation of apoptotic signaling pat...</td>\n",
       "      <td>Any process that activates or increases the fr...</td>\n",
       "      <td>4</td>\n",
       "      <td>0.700227</td>\n",
       "    </tr>\n",
       "    <tr>\n",
       "      <th>5615</th>\n",
       "      <td>GO:2001280</td>\n",
       "      <td>positive regulation of unsaturated fatty acid ...</td>\n",
       "      <td>Any process that activates or increases the fr...</td>\n",
       "      <td>6</td>\n",
       "      <td>0.688193</td>\n",
       "    </tr>\n",
       "    <tr>\n",
       "      <th>5616</th>\n",
       "      <td>GO:2001289</td>\n",
       "      <td>lipid X metabolic process.</td>\n",
       "      <td>The chemical reactions and pathways involving ...</td>\n",
       "      <td>4</td>\n",
       "      <td>0.683334</td>\n",
       "    </tr>\n",
       "    <tr>\n",
       "      <th>5617</th>\n",
       "      <td>GO:2001294</td>\n",
       "      <td>malonyl-CoA catabolic process.</td>\n",
       "      <td>The chemical reactions and pathways resulting ...</td>\n",
       "      <td>5</td>\n",
       "      <td>0.644774</td>\n",
       "    </tr>\n",
       "    <tr>\n",
       "      <th>5618</th>\n",
       "      <td>GO:2001295</td>\n",
       "      <td>malonyl-CoA biosynthetic process.</td>\n",
       "      <td>The chemical reactions and pathways resulting ...</td>\n",
       "      <td>6</td>\n",
       "      <td>0.640183</td>\n",
       "    </tr>\n",
       "  </tbody>\n",
       "</table>\n",
       "<p>5619 rows × 5 columns</p>\n",
       "</div>"
      ],
      "text/plain": [
       "              GO                                               Name  \\\n",
       "0     GO:0000002                  mitochondrial genome maintenance.   \n",
       "1     GO:0000003                                      reproduction.   \n",
       "2     GO:0000012                        single strand break repair.   \n",
       "3     GO:0000012                        single strand break repair.   \n",
       "4     GO:0000014  single-stranded DNA endodeoxyribonuclease acti...   \n",
       "...          ...                                                ...   \n",
       "5614  GO:2001235  positive regulation of apoptotic signaling pat...   \n",
       "5615  GO:2001280  positive regulation of unsaturated fatty acid ...   \n",
       "5616  GO:2001289                         lipid X metabolic process.   \n",
       "5617  GO:2001294                     malonyl-CoA catabolic process.   \n",
       "5618  GO:2001295                  malonyl-CoA biosynthetic process.   \n",
       "\n",
       "                                             Definition  Depth  sim_score  \n",
       "0     The maintenance of the structure and integrity...      6   0.658170  \n",
       "1     The production of new individuals that contain...      1   0.679071  \n",
       "2            The repair of single strand breaks in DNA.      6   0.665612  \n",
       "3     Repair of such breaks is mediated by the same ...      6   0.643082  \n",
       "4     Catalysis of the hydrolysis of ester linkages ...      8   0.631392  \n",
       "...                                                 ...    ...        ...  \n",
       "5614  Any process that activates or increases the fr...      4   0.700227  \n",
       "5615  Any process that activates or increases the fr...      6   0.688193  \n",
       "5616  The chemical reactions and pathways involving ...      4   0.683334  \n",
       "5617  The chemical reactions and pathways resulting ...      5   0.644774  \n",
       "5618  The chemical reactions and pathways resulting ...      6   0.640183  \n",
       "\n",
       "[5619 rows x 5 columns]"
      ]
     },
     "execution_count": 48,
     "metadata": {},
     "output_type": "execute_result"
    }
   ],
   "source": [
    "def get_sim_df_for_string(predictions, e_col, string_to_embed, pipe=pipe):\n",
    "\n",
    "    \"\"\"\n",
    "    Creates a Dataframe which has a `sim_score` column which describes the similarity with the `string_to_embed` variable.\n",
    "\n",
    "    Args:\n",
    "      predictions: A DataFrame of predictions.\n",
    "      e_col: The name of the column in `predictions` that contains the embeddings.\n",
    "      string_to_embed: The string to embed.\n",
    "      pipe: A spaCy pipeline object.\n",
    "\n",
    "    Returns:\n",
    "      A DataFrame with an additional `sim_score` column.\n",
    "    \"\"\"\n",
    "\n",
    "    # Put predictions vectors in matrix.\n",
    "    embed_mat = np.array([x for x in predictions[e_col]])\n",
    "\n",
    "    # Embed string input string.\n",
    "    embedding = pipe.predict(string_to_embed).iloc[0]['sentence_embedding_from_disk']\n",
    "\n",
    "    # Replicate embedding for input string.\n",
    "    m = np.array([embedding,] * len(df))\n",
    "\n",
    "    # Compute cosine similarity.\n",
    "    sim_mat = cosine_similarity(m, embed_mat)\n",
    "\n",
    "    # Write sim score.\n",
    "    df['sim_score'] = sim_mat[0]\n",
    "\n",
    "    # Return df.\n",
    "    return df\n",
    "\n",
    "get_sim_df_for_string(predictions, e_col, \"Test test\" )"
   ]
  },
  {
   "cell_type": "markdown",
   "metadata": {
    "tags": []
   },
   "source": [
    "<div class=\"alert alert-block alert-info\">\n",
    "    <h3><b>Function:</b> Loading document, xml or PubMed API.</h3>\n",
    "</div>"
   ]
  },
  {
   "cell_type": "code",
   "execution_count": 49,
   "metadata": {},
   "outputs": [
    {
     "name": "stdout",
     "output_type": "stream",
     "text": [
      "CPU times: user 232 µs, sys: 155 µs, total: 387 µs\n",
      "Wall time: 48.4 µs\n"
     ]
    }
   ],
   "source": [
    "%%time\n",
    "\n",
    "def query_go(query: str, Top: int = 3, sim_cutoff: float = 0.92, Send: str = \"ALL\") -> typing.Union[list, bool]:\n",
    "\n",
    "    \"\"\"\n",
    "    Queries the Gene Ontology (GO) database for terms that are similar to the given query.\n",
    "\n",
    "    Args:\n",
    "      query: The query string.\n",
    "      Top: The number of top results to return.\n",
    "      sim_cutoff: The similarity cutoff.\n",
    "      Send: The type of results to send.\n",
    "\n",
    "    Returns:\n",
    "      A list of GO terms that are similar to the query, or False if no results were found.\n",
    "    \"\"\"\n",
    "\n",
    "    # Get the similarity matrix between the query and the GO terms.\n",
    "    sim_df = get_sim_df_for_string(predictions, e_col, query)\n",
    "\n",
    "    # Sort the similarity matrix by similarity score.\n",
    "    df_res = sim_df.sort_values('sim_score', ascending=False).iloc[:Top]\n",
    "\n",
    "    # Filter the results by similarity score.\n",
    "    df_res = df_res.loc[df_res['sim_score'] > sim_cutoff]\n",
    "\n",
    "    # If no results were found, return False.\n",
    "    if not len(df_res):\n",
    "        return False\n",
    "\n",
    "    # Return the results.\n",
    "    if Send == \"ALL\":\n",
    "        return [tuple(i) for i in (df_res[[\"GO\", \"Name\", \"Definition\", \"Depth\", \"sim_score\"]].values.tolist())]\n",
    "    elif Send == \"GO\":\n",
    "        return [tuple(i) for i in (df_res[[\"GO\", \"sim_score\"]].values.tolist())]\n",
    "    elif Send == \"Name\":\n",
    "        return [tuple(i) for i in (df_res[[\"Name\", \"sim_score\"]].values.tolist())]\n",
    "    elif Send == \"Def\":\n",
    "        return [tuple(i) for i in (df_res[[\"Definition\", \"sim_score\"]].values.tolist())]\n",
    "    elif Send == \"Depth\":\n",
    "        return [tuple(i) for i in (df_res[[\"Depth\", \"sim_score\"]].values.tolist())]\n",
    "    else:\n",
    "        raise ValueError(\"Invalid value for `Send`.\")\n",
    "        \n",
    "# query_go('Gonadoblastoma is defined as an abnormal growth of germ cells and sex cord elements on the gonad.')\n",
    "# query_go(' regulate signal transduction events generated by G-protein coupled receptors', sim_cutoff=0.80)"
   ]
  },
  {
   "cell_type": "markdown",
   "metadata": {},
   "source": [
    "<div class=\"alert alert-block alert-info\">\n",
    "    <h3><b>Function:</b> Lower case and uppercase lambda function</h3>\n",
    "    The given Python code defines two lambda functions: Lowerset and Upperset. Both functions take a set as input, convert all elements to lowercase or uppercase respectively, and return a new set containing the transformed elements.\n",
    "</div>\n"
   ]
  },
  {
   "cell_type": "code",
   "execution_count": 50,
   "metadata": {},
   "outputs": [],
   "source": [
    "# Define a lambda function LowerSet that transforms all elements in a set to lowercase\n",
    "Lowerset = lambda Set: set([i.lower() for i in Set])\n",
    "\n",
    "# Define a lambda function UpperSet that transforms all elements in a set to uppercase\n",
    "Upperset = lambda Set: set([i.upper() for i in Set])\n"
   ]
  },
  {
   "cell_type": "markdown",
   "metadata": {},
   "source": [
    "<div class=\"alert alert-block alert-info\">\n",
    "    <h3><b>Function:</b> Loading Gene list from disk</h3>\n",
    "    The code reads a list of gene names from a file (\"1.2_ATH_Gene_all.lst\"), removes certain terms from the list, converts the list to a set, and then converts the set to a list of uppercase gene IDs.\n",
    "</div>"
   ]
  },
  {
   "cell_type": "code",
   "execution_count": 51,
   "metadata": {},
   "outputs": [
    {
     "name": "stdout",
     "output_type": "stream",
     "text": [
      "Total Genes in Human : 33651 \n",
      " ['ATPEX12', 'ATPMEI1', 'COR413-TM1', 'AT3G61440', 'GA3OX2']\n",
      "Total IDs in ATH : 33589 \n",
      " ['TAF6B1', 'HAP2C', 'AT3G10700', 'AG', 'ATARI11']\n"
     ]
    }
   ],
   "source": [
    "# Read gene names from file and create a list of unique gene names\n",
    "Gene_list = list(set([i for i in open(\"Auxiliary_Files/1.2_ATH_Gene_all.lst\").read().splitlines() if len(i)]))\n",
    "\n",
    "# Print the number of genes and the first five genes in the list\n",
    "print(f\"Total Genes in Human : {len(Gene_list)} \\n {Gene_list[:5]}\")\n",
    "\n",
    "# Remove certain terms from the list of genes\n",
    "Gene_list = set(Gene_list) - set([\"AND\", \"AN\", \"CAN\", \"NOT\", \"HAS\", \"FACT\", \n",
    "                                  \"MIN\", \"LATE\", \"MAIN\", \"RING\", \"BP\", \n",
    "                                  \"POLAR\", \"CO\", \"NIH\", \"LAB\", \"GI\", \"NSF\", \n",
    "                                  \"WAS\", \"MICE\"])\n",
    "\n",
    "# Convert the set of genes to a list, and then convert it to uppercase using the `Upperset` function\n",
    "Gene_list = Upperset(set(list(Gene_list)))\n",
    "\n",
    "# Print the number of gene IDs and the last five gene IDs in the list\n",
    "print(f\"Total IDs in ATH : {len(Gene_list)} \\n {list(Gene_list)[-5:]}\")\n"
   ]
  },
  {
   "cell_type": "markdown",
   "metadata": {},
   "source": [
    "<div class=\"alert alert-block alert-info\">\n",
    "    <h3><b>Function:</b> To check if paragraph contains any of the <i>Arabidopsis thaliana</i> genes</h3>\n",
    "    The code reads a list of gene names from a file (\"1.2_ATH_Gene_all.lst\"), removes certain terms from the list, converts the list to a set, and then converts the set to a list of uppercase gene IDs.\n",
    "</div>"
   ]
  },
  {
   "cell_type": "code",
   "execution_count": 52,
   "metadata": {},
   "outputs": [
    {
     "name": "stdout",
     "output_type": "stream",
     "text": [
      "CPU times: user 95 µs, sys: 63 µs, total: 158 µs\n",
      "Wall time: 24.8 µs\n"
     ]
    }
   ],
   "source": [
    "%%time\n",
    "\n",
    "def para_pass(text: str, Print_list: bool = False):\n",
    "    \"\"\"\n",
    "    Takes a text paragraph and returns a boolean value indicating whether or not any genes were found in the text.\n",
    "\n",
    "    Args:\n",
    "    text: The text paragraph to analyze.\n",
    "    Print_list: If True, the list of genes found in the text will be printed.\n",
    "\n",
    "    Returns:\n",
    "    A boolean value indicating whether or not any genes were found in the text.\n",
    "    \"\"\"\n",
    "\n",
    "    # Tokenize the text into words.\n",
    "    words = chain.from_iterable(map(word_tokenize, sent_tokenize(text)))\n",
    "\n",
    "    # Create a frequency distribution of the words.\n",
    "    freq = FreqDist(map(str.casefold, words))\n",
    "\n",
    "    # Convert the frequency distribution to a set of words.\n",
    "    word_bag = Upperset(freq)\n",
    "\n",
    "    # Intersect the set of words with the set of genes.\n",
    "    intersection = word_bag.intersection(Gene_list)\n",
    "\n",
    "    # If the intersection is not empty, return True.\n",
    "    if intersection:\n",
    "        if Print_list:\n",
    "            print(intersection)\n",
    "        return intersection\n",
    "\n",
    "    # Otherwise, return False.\n",
    "    return False"
   ]
  },
  {
   "cell_type": "markdown",
   "metadata": {},
   "source": [
    "<div class=\"alert alert-block alert-info\">\n",
    "    <h3><b>Function:</b> To plot summary table</h3>\n",
    "    This is a Python function named Plot_data that plots the data in the given Data dictionary. It takes in one argument, a dictionary called Data, and returns a networkx graph of the data. \n",
    "</div>"
   ]
  },
  {
   "cell_type": "code",
   "execution_count": 53,
   "metadata": {},
   "outputs": [],
   "source": [
    "def Plot_data(Data) -> nx.Graph:\n",
    "    \"\"\"\n",
    "    Plots the data in the given `Data` dictionary.\n",
    "\n",
    "    Args:\n",
    "    Data: A dictionary containing the following keys:\n",
    "      * `Meta_info`: A dictionary containing the metadata for the paper.\n",
    "      * `Search_info`: A list of dictionaries, each of which contains the results of a search for a gene.\n",
    "\n",
    "    Returns:\n",
    "    A networkx graph of the data.\n",
    "    \"\"\"\n",
    "\n",
    "    # Get the metadata for the paper.\n",
    "    Meta = Data[0][\"Meta_info\"]\n",
    "    #print(Meta)\n",
    "    values = [['<b>Paper Title</b>', 'Species', 'pmid', 'PMC', 'DOI'],\n",
    "              ['<b>' + Meta['Title'] + \"</b>\", Meta['Species'], Meta['pmid'], Meta['pmc'], Meta['DOI']]]\n",
    "\n",
    "    fig = go.Figure(data=[go.Table(\n",
    "      columnorder = [1,2],\n",
    "      columnwidth = [100,400],\n",
    "      header = dict(\n",
    "        values = [['<b>Article information</b>'],\n",
    "                      ['<b>Description</b>']],\n",
    "        line_color='darkslategray',\n",
    "        fill_color='#144B39',\n",
    "        align=['left','center'],\n",
    "        font=dict(color='white', size=12),\n",
    "        height=20\n",
    "      ),\n",
    "      cells=dict(\n",
    "        values=values,\n",
    "        line_color='darkslategray',\n",
    "        fill=dict(color=['#FFD400', 'white']),\n",
    "        align=['left', 'left'],\n",
    "        font_size=12,\n",
    "        height=20)\n",
    "        )\n",
    "    ])\n",
    "\n",
    "    fig.update_layout(width=800, height=175)\n",
    "    fig.update_layout(margin = dict(t=0, l=5, r=0, b=0))\n",
    "    fig.show()\n",
    "    ########################\n",
    "\n",
    "    ########################\n",
    "    Dic_list = []\n",
    "\n",
    "    for i in range(1, len(Data)-1):\n",
    "        #print(i)\n",
    "        Res = Data[i][\"Search_info\"]\n",
    "\n",
    "        if len(Res):\n",
    "            for s in Res:\n",
    "                for g in Data[i][\"Genes\"].split(\";\"):\n",
    "                    Dic = {\"Genes\":g, \"GO\":s[\"GO\"], \"Name\":s[\"GO_Name\"], \"Score\":s[\"Score\"], \"Depth\":s[\"Depth\"]}\n",
    "                    Dic_list.append(Dic)\n",
    "\n",
    "    df = pd.DataFrame(Dic_list)\n",
    "    df_uniq = df.drop_duplicates(keep=\"first\")\n",
    "    if df_uniq.empty:\n",
    "        print('No Human genes found or GO mapped!!\\n')\n",
    "        return\n",
    "\n",
    "\n",
    "    ######################\n",
    "    # Plot Bipartite Graph\n",
    "    ######################\n",
    "    G = nx.from_pandas_edgelist(df_uniq, \"Genes\", \"GO\", ['Name', 'Score'])\n",
    "    G.name = \"PhenoMiner\"\n",
    "    color_map = []\n",
    "    for node in G:\n",
    "        if node.startswith(\"GO:\"):\n",
    "            color_map.append('#80BC00')\n",
    "        else: \n",
    "            color_map.append('#FFD400')\n",
    "\n",
    "\n",
    "    try:\n",
    "        top = nx.bipartite.sets(G)[0]\n",
    "    except:\n",
    "        print(\"Warning: AmbiguousSolution\")\n",
    "        return G\n",
    "    \n",
    "    pos = nx.bipartite_layout(G, top)\n",
    "\n",
    "    nx.draw(G, pos=pos, node_color=color_map, with_labels=True, \n",
    "            verticalalignment='bottom', node_size=100, font_size = 12)\n",
    "\n",
    "    ######################\n",
    "\n",
    "\n",
    "    fig = go.Figure(data=[go.Table(\n",
    "    header=dict(values=list(df_uniq.columns),\n",
    "                fill_color='#144B39', \n",
    "                font=dict(color='white', size=12),\n",
    "                line_color='#FFD400',\n",
    "                align='left'),\n",
    "    cells=dict(values=[df_uniq.Genes, df_uniq.GO, df_uniq.Name, df_uniq.Score, df_uniq.Depth],\n",
    "               fill_color='white', \n",
    "               font=dict(color='#144B39', size=12), \n",
    "               line_color='#80BC00',\n",
    "               align='left'))\n",
    "                         ])\n",
    "\n",
    "    fig.update_layout(margin = dict(t=0, l=5, r=5, b=0))\n",
    "    fig.show()\n",
    "    \n",
    "    return G"
   ]
  },
  {
   "cell_type": "markdown",
   "metadata": {},
   "source": [
    "<div class=\"alert alert-block alert-info\">\n",
    "    <h3><b>Function:</b> To split document into Paragraphs and lines.</h3>\n",
    "    The given function is a python function named read_pubmed. This function accepts five arguments named File, Method, sim_cutoff, Organism, and Print.\n",
    "\n",
    "File is a mandatory argument that specifies the name of the file to be read. Method is an optional argument that specifies the method to be used to read the file. If this argument is not specified, a warning message is displayed that mentions the options to read the file. sim_cutoff is another optional argument that sets the threshold score for the semantic similarity score, with a default value of 0.92. Organism is a list of organisms to search in the document, with a default value of ['Arabidopsis', 'thaliana', 'A. thaliana', 'thaliana', 'A. thaliana']. Finally, Print is an optional boolean argument that specifies whether to print the output or not, with a default value of True.\n",
    "\n",
    "The function first checks whether the Method argument is set or not. If not, it will display a warning message about the options for this argument and return False. Then it checks whether the whole body is accessible or not.\n",
    "\n",
    "The function then uses the Beautifulsoup module to split the document into paragraphs. If the Method is set to Offline, it reads the file using the open function and stores the data in the data variable. It then uses Beautifulsoup to parse the data and stores the result in the Bs_data variable.\n",
    "\n",
    "If the Method is set to PMC, it replaces the \"PMC\" string from the File argument with an empty string and constructs a URL to fetch the file from the PubMed Central database. It then uses the requests.get function to fetch the file from the URL and stores the result in the data variable. It then uses Beautifulsoup to parse the data and stores the result in the Bs_data variable. If the full text is not accessible, a warning message is displayed, and searching is limited to the abstract only.\n",
    "\n",
    "The function then extracts metadata such as the organism, title, PMCID, PMID, and DOI from the document using Beautifulsoup. It then processes each paragraph in the document and searches for gene-related information in it. It uses the query_go function to search for gene-related information and if found, it adds the gene-related information to a list of search information. It then creates a dictionary containing information about the paragraph, including its number, genes, and search information, and appends this dictionary to a list of dictionaries.\n",
    "\n",
    "Finally, the function checks if the list of dictionaries is not empty. If it is not empty and the Print argument is set to True, it prints the list of dictionaries in JSON format. Otherwise, it returns None.\n",
    "</div>"
   ]
  },
  {
   "cell_type": "code",
   "execution_count": 54,
   "metadata": {},
   "outputs": [
    {
     "name": "stdout",
     "output_type": "stream",
     "text": [
      "CPU times: user 32 µs, sys: 0 ns, total: 32 µs\n",
      "Wall time: 35.5 µs\n"
     ]
    }
   ],
   "source": [
    "%%time\n",
    "title_meta = ''\n",
    "\n",
    "\n",
    "def read_pubmed(File, Method = None, sim_cutoff = 0.92, Organism = ['Arabidopsis', 'thaliana', 'A. thaliana', 'thaliana', 'A. thaliana',], \n",
    "                Print = True):\n",
    "    \"\"\"\n",
    "      Reads a PubMed file and returns a list of dictionaries, each of which contains the following keys:\n",
    "        * `Meta_info`: A dictionary containing the metadata for the paper.\n",
    "        * `Para_info`: A list of dictionaries, each of which contains the information for a paragraph.\n",
    "\n",
    "      Args:\n",
    "        File: The path to the PubMed file.\n",
    "        Method: The method to use to read the file. Can be `\"Offline\"` to read an offline XML file, or `\"PMC\"` to read an online file using the given PMC ID.\n",
    "        sim_cutoff: The similarity cutoff to use when searching for genes in the text.\n",
    "        Organism: A list of strings containing the names of the organisms to search for.\n",
    "        Print: A boolean value indicating whether or not to print status messages.\n",
    "\n",
    "      Returns:\n",
    "        A list of dictionaries, each of which contains the metadata and information for a paragraph in the PubMed file.\n",
    "    \"\"\"\n",
    "\n",
    "\n",
    "    \n",
    "    #####################################################\n",
    "    # Check if Whole body is accessible\n",
    "    #####################################################\n",
    "    fh = open(\"temp.del\", \"w\")\n",
    "    if not Method:\n",
    "        warnings.warn(\"\"\"Warning Message: \n",
    "                      Method not set\n",
    "                      Options:\n",
    "                      \\tOffline : Reads offline xml file.\n",
    "                      \\t\\t  Example : read_pubmed('./manuscript/PMC004xxxxxx/PMC4000261.xml'\n",
    "                      \\tOnline  : Reads online file using given PMC ID\n",
    "                      \\t\\t  read_pubmed('4304705')\n",
    "                      \"\"\")\n",
    "        return False\n",
    "    \n",
    "    \n",
    "    #####################################################\n",
    "    # Use Beautifulsoup for split doucment in para\n",
    "    #####################################################    \n",
    "    if Method == \"Offline\":\n",
    "        with open(File, 'r') as f:\n",
    "            data = f.read()\n",
    "        Bs_data = BeautifulSoup(data, \"html.parser\")\n",
    "    \n",
    "    if Method == \"PMC\":\n",
    "        if File.startswith(\"PMC\"):\n",
    "            File = File.replace(\"PMC\", \"\")\n",
    "        URL = \"https://eutils.ncbi.nlm.nih.gov/entrez/eutils/efetch.fcgi?db=pmc&id=\"+ str(File) +\"&tool=my_tool&email=my_email@example.com\"\n",
    "        data = requests.get(URL)\n",
    "        Bs_data = BeautifulSoup(data.text, \"html.parser\")\n",
    "        if not Bs_data.body and Bs_data.abstract:\n",
    "            warnings.warn(\"Full text is not accessible, searching is limited to 'Abstract' only!!!\\n Try other method type like URL or Offline XML.\")\n",
    "            \n",
    "    #####################################################\n",
    "    # Mate info from the document\n",
    "    #####################################################        \n",
    "    # Organism\n",
    "    Species = []\n",
    "    for Sp in Organism:\n",
    "        Sp_text = Bs_data(text=re.compile(Sp))\n",
    "        if Sp_text:\n",
    "            #print(Sp)\n",
    "            Species.append(Sp)\n",
    "    Species = \"; \".join(Species)\n",
    "    \n",
    "    if not len(Species):\n",
    "        Species = \"**\"\n",
    "        #return False\n",
    "    if Print:\n",
    "        print(f\"Species = {Species}\")\n",
    "    \n",
    "    \n",
    "    \n",
    "    # Metadata\n",
    "    Title = ''\n",
    "    pmid = \"\"\n",
    "    pmc = \"\"\n",
    "    doi = ''\n",
    "    b_meta = Bs_data.find_all(\"article-id\")\n",
    "    for m in b_meta:\n",
    "        #print(m)\n",
    "        if \"pmid\" in m.attrs.values():\n",
    "            pmid = m.text\n",
    "            #print(m.text)\n",
    "\n",
    "        if \"pmc\" in m.attrs.values():\n",
    "            pmc = m.text\n",
    "            #print(m.text)\n",
    "\n",
    "        if \"doi\" in m.attrs.values():\n",
    "            doi = m.text\n",
    "            #print(m.text)\n",
    "\n",
    "\n",
    "    Title = str(Bs_data.find('title-group').contents[1]).replace(\"<article-title>\", \"\").replace(\"</article-title>\", \"\")\n",
    "    #print(Title)\n",
    "\n",
    "\n",
    "    b_unique = Bs_data.find_all('p')\n",
    "\n",
    "    Unkown_para_num = 1\n",
    "\n",
    "    List_dic = [{\"Meta_info\":{\"Title\":Title, \"Species\":Species, \"pmid\":pmid, \"pmc\":pmc, \"DOI\":doi}}]\n",
    "\n",
    "    #####################################################\n",
    "    # Process para \n",
    "    #####################################################    \n",
    "    for i in b_unique:\n",
    "        #print(i.name, i.attrs,i.text, \"##########\")\n",
    "        para_ID = \"\"\n",
    "        #Text = i.text\n",
    "        if 'id' in i.attrs:\n",
    "            #print(i.attrs['id'], \"||||||||||||||||\")\n",
    "            para_ID = i.attrs['id']\n",
    "        else:\n",
    "            #print(\"U\" + str(Unkown_para_num), \"##########\")\n",
    "            para_ID = \"U\" + str(Unkown_para_num)\n",
    "            Unkown_para_num += 1\n",
    "        #####################################################\n",
    "        # Split para into lines\n",
    "        #####################################################\n",
    "        if para_pass(i.text):\n",
    "            dic = {\"Para_number\":para_ID, \"Genes\":\";\".join(para_pass(i.text)), \"Para\":i.text}\n",
    "            #dic = {\"Species\":Species, \"pmid\":pmid, \"pmc\":pmc, \"Para_number\":para_ID, \"Genes\":\";\".join(para_pass(i.text)), \"Para\":i.text, \"DOI\":doi}\n",
    "            \n",
    "            #print(pmid, pmc, para_ID, \";\".join(para_pass(i.text)), i.text, doi, sep=\"\\t\")\n",
    "            #print(\"|_________________|\", json.dumps(dic, indent=4, default=str), i.text, file=fh)\n",
    "            Search_info = []\n",
    "            for sent in sent_tokenize(i.text):\n",
    "                query_res = query_go(sent, sim_cutoff = sim_cutoff)\n",
    "                \n",
    "                if query_res:\n",
    "                    #print(query_res)\n",
    "                    for q in query_res:\n",
    "                        query_dic = {\"Sentance\":sent,\n",
    "                                     \"GO\":query_res[0][0], \n",
    "                                     \"GO_Name\":query_res[0][1], \n",
    "                                     \"Definition\":query_res[0][2], \n",
    "                                     \"Depth\":query_res[0][3],\n",
    "                                     \"Score\":query_res[0][4]\n",
    "                                    }\n",
    "                        Search_info.append(query_dic)\n",
    "                    print(sent, dic[\"Genes\"], file=fh)\n",
    "                    print(query_dic, file=fh)\n",
    "                    print(\">\" * 10, file=fh)\n",
    "            print(\"#\" * 10, file = fh)\n",
    "            dic[\"Search_info\"] = Search_info\n",
    "            List_dic.append(dic)\n",
    "            \n",
    "        \n",
    "    if len(List_dic):\n",
    "        if Print:\n",
    "            print(json.dumps(List_dic, indent=4, default=str))\n",
    "            #print(json.dumps(List_dic, indent=4, default=str), file=fh)\n",
    "        return List_dic\n",
    "    \n",
    "    fh.close()\n",
    "    return False\n",
    "\n"
   ]
  },
  {
   "cell_type": "markdown",
   "metadata": {},
   "source": [
    "#### Call function to predict GOs\n",
    "<div class=\"alert alert-block alert-danger\">\n",
    "    <h2><b>Example 1 (Bad):</b> PMC1459476</h2>\n",
    "    Two Isoforms of a Divalent Metal Transporter (DMT1) in Schistosoma mansoni Suggest a Surface-associated Pathway for Iron Absorption in Schistosomes*. \n",
    "</div>"
   ]
  },
  {
   "cell_type": "code",
   "execution_count": 55,
   "metadata": {},
   "outputs": [
    {
     "data": {
      "image/svg+xml": [
       "<svg class=\"main-svg\" xmlns=\"http://www.w3.org/2000/svg\" xmlns:xlink=\"http://www.w3.org/1999/xlink\" width=\"800\" height=\"175\" style=\"\" viewBox=\"0 0 800 175\"><rect x=\"0\" y=\"0\" width=\"800\" height=\"175\" style=\"fill: rgb(255, 255, 255); fill-opacity: 1;\"/><defs id=\"defs-932079\"><g class=\"clips\"/><g class=\"gradients\"/><g class=\"patterns\"/></defs><g class=\"bglayer\"/><g class=\"layer-below\"><g class=\"imagelayer\"/><g class=\"shapelayer\"/></g><g class=\"cartesianlayer\"/><g class=\"polarlayer\"/><g class=\"ternarylayer\"/><g class=\"geolayer\"/><g class=\"funnelarealayer\"/><g class=\"pielayer\"/><g class=\"iciclelayer\"/><g class=\"treemaplayer\"/><g class=\"sunburstlayer\"/><g class=\"glimages\"/><g class=\"table\" overflow=\"visible\" width=\"800\" height=\"175\" transform=\"\" style=\"box-sizing: content-box; position: absolute; left: 0px; overflow: visible; shape-rendering: crispedges; pointer-events: all;\"><g class=\"table-control-view\" transform=\"translate(5,0)\" clip-path=\"url(#clip932079_scrollAreaBottomClip_027438true)\" style=\"box-sizing: content-box;\"><rect class=\"scroll-background\" fill=\"none\" width=\"795\" height=\"175\"/><g class=\"y-column\" transform=\"\" clip-path=\"url(#clip932079_columnBoundaryClippath_027438true_0)\"><g class=\"column-block\" id=\"cells1\" transform=\"\" style=\"cursor: default;\"><g class=\"column-cells\"><g class=\"column-cell\" transform=\"translate(0,33)\"><rect class=\"cell-rect\" width=\"159\" stroke-width=\"1\" style=\"stroke: rgb(47, 79, 79); stroke-opacity: 1; fill: rgb(255, 212, 0); fill-opacity: 1;\" height=\"48.609375\"/><g class=\"cell-text-holder\" transform=\"translate(8,21)\" style=\"shape-rendering: geometricprecision;\"><text class=\"cell-text\" dy=\"0\" x=\"0\" y=\"0\" style=\"cursor: auto; font-family: 'Open Sans', verdana, arial, sans-serif; font-size: 12px; fill: rgb(42, 63, 95); fill-opacity: 1; white-space: pre;\"><tspan style=\"font-weight:bold\">Paper Title</tspan></text></g></g><g class=\"column-cell\" transform=\"translate(0,81.609375)\"><rect class=\"cell-rect\" width=\"159\" stroke-width=\"1\" style=\"stroke: rgb(47, 79, 79); stroke-opacity: 1; fill: rgb(255, 212, 0); fill-opacity: 1;\" height=\"20\"/><g class=\"cell-text-holder\" transform=\"translate(8,8)\" text-anchor=\"start\" style=\"shape-rendering: geometricprecision;\"><text class=\"cell-text\" dy=\"0.75em\" style=\"cursor: auto; font-family: 'Open Sans', verdana, arial, sans-serif; font-size: 12px; fill: rgb(42, 63, 95); fill-opacity: 1;\">Species</text></g></g><g class=\"column-cell\" transform=\"translate(0,101.609375)\"><rect class=\"cell-rect\" width=\"159\" stroke-width=\"1\" style=\"stroke: rgb(47, 79, 79); stroke-opacity: 1; fill: rgb(255, 212, 0); fill-opacity: 1;\" height=\"20\"/><g class=\"cell-text-holder\" transform=\"translate(8,8)\" text-anchor=\"start\" style=\"shape-rendering: geometricprecision;\"><text class=\"cell-text\" dy=\"0.75em\" style=\"cursor: auto; font-family: 'Open Sans', verdana, arial, sans-serif; font-size: 12px; fill: rgb(42, 63, 95); fill-opacity: 1;\">pmid</text></g></g><g class=\"column-cell\" transform=\"translate(0,121.609375)\"><rect class=\"cell-rect\" width=\"159\" stroke-width=\"1\" style=\"stroke: rgb(47, 79, 79); stroke-opacity: 1; fill: rgb(255, 212, 0); fill-opacity: 1;\" height=\"20\"/><g class=\"cell-text-holder\" transform=\"translate(8,8)\" text-anchor=\"start\" style=\"shape-rendering: geometricprecision;\"><text class=\"cell-text\" dy=\"0.75em\" style=\"cursor: auto; font-family: 'Open Sans', verdana, arial, sans-serif; font-size: 12px; fill: rgb(42, 63, 95); fill-opacity: 1;\">PMC</text></g></g><g class=\"column-cell\" transform=\"translate(0,141.609375)\"><rect class=\"cell-rect\" width=\"159\" stroke-width=\"1\" style=\"stroke: rgb(47, 79, 79); stroke-opacity: 1; fill: rgb(255, 212, 0); fill-opacity: 1;\" height=\"20\"/><g class=\"cell-text-holder\" transform=\"translate(8,8)\" text-anchor=\"start\" style=\"shape-rendering: geometricprecision;\"><text class=\"cell-text\" dy=\"0.75em\" style=\"cursor: auto; font-family: 'Open Sans', verdana, arial, sans-serif; font-size: 12px; fill: rgb(42, 63, 95); fill-opacity: 1;\">DOI</text></g></g></g></g><g class=\"column-block\" id=\"cells2\" transform=\"\" style=\"cursor: default;\"><g class=\"column-cells\"/></g><g class=\"column-block\" id=\"header\" style=\"cursor: ew-resize;\"><g class=\"column-cells\"><g class=\"column-cell\" transform=\"\"><rect class=\"cell-rect\" width=\"159\" stroke-width=\"1\" style=\"stroke: rgb(47, 79, 79); stroke-opacity: 1; fill: rgb(20, 75, 57); fill-opacity: 1;\" height=\"33\"/><g class=\"cell-text-holder\" transform=\"translate(8,21)\" style=\"shape-rendering: geometricprecision;\"><text class=\"cell-text\" dy=\"0\" x=\"0\" y=\"0\" style=\"cursor: auto; font-family: 'Open Sans', verdana, arial, sans-serif; font-size: 12px; fill: rgb(255, 255, 255); fill-opacity: 1; white-space: pre;\"><tspan style=\"font-weight:bold\">Article information</tspan></text></g></g></g></g><g class=\"column-boundary\"/><clipPath class=\"column-boundary-clippath\" id=\"clip932079_columnBoundaryClippath_027438true_0\"><rect class=\"column-boundary-rect\" fill=\"none\" width=\"161\" height=\"182\" x=\"-1\" y=\"-1\"/></clipPath></g><g class=\"y-column\" transform=\"translate(159,0)\" clip-path=\"url(#clip932079_columnBoundaryClippath_027438true_1)\"><g class=\"column-block\" id=\"cells1\" transform=\"\" style=\"cursor: default;\"><g class=\"column-cells\"><g class=\"column-cell\" transform=\"translate(0,33)\"><rect class=\"cell-rect\" width=\"636\" stroke-width=\"1\" style=\"stroke: rgb(47, 79, 79); stroke-opacity: 1; fill: rgb(255, 255, 255); fill-opacity: 1;\" height=\"48.609375\"/><g class=\"cell-text-holder\" transform=\"translate(8,21)\" style=\"shape-rendering: geometricprecision;\"><text class=\"cell-text\" dy=\"0\" x=\"0\" y=\"0\" style=\"cursor: auto; font-family: 'Open Sans', verdana, arial, sans-serif; font-size: 12px; fill: rgb(42, 63, 95); fill-opacity: 1; white-space: pre;\"><tspan class=\"line\" dy=\"0em\" x=\"0\" y=\"0\"><tspan style=\"font-weight:bold\">Two Isoforms of a Divalent Metal Transporter (DMT1) in &#60;italic>Schistosoma mansoni&#60;/italic> Suggest a</tspan></tspan><tspan class=\"line\" dy=\"1.3em\" x=\"0\" y=\"0\"><tspan style=\"font-weight:bold\">Surface-associated Pathway for Iron Absorption in Schistosomes&#60;xref ref-type=\"fn\" rid=\"FN1\">*&#60;/xref></tspan></tspan></text></g></g><g class=\"column-cell\" transform=\"translate(0,81.609375)\"><rect class=\"cell-rect\" width=\"636\" stroke-width=\"1\" style=\"stroke: rgb(47, 79, 79); stroke-opacity: 1; fill: rgb(255, 255, 255); fill-opacity: 1;\" height=\"20\"/><g class=\"cell-text-holder\" transform=\"translate(8,8)\" text-anchor=\"start\" style=\"shape-rendering: geometricprecision;\"><text class=\"cell-text\" dy=\"0.75em\" x=\"0\" y=\"0\" style=\"cursor: auto; font-family: 'Open Sans', verdana, arial, sans-serif; font-size: 12px; fill: rgb(42, 63, 95); fill-opacity: 1; white-space: pre;\">Arabidopsis; thaliana; thaliana</text></g></g><g class=\"column-cell\" transform=\"translate(0,101.609375)\"><rect class=\"cell-rect\" width=\"636\" stroke-width=\"1\" style=\"stroke: rgb(47, 79, 79); stroke-opacity: 1; fill: rgb(255, 255, 255); fill-opacity: 1;\" height=\"20\"/><g class=\"cell-text-holder\" transform=\"translate(8,8)\" text-anchor=\"start\" style=\"shape-rendering: geometricprecision;\"><text class=\"cell-text\" dy=\"0.75em\" style=\"cursor: auto; font-family: 'Open Sans', verdana, arial, sans-serif; font-size: 12px; fill: rgb(42, 63, 95); fill-opacity: 1;\">16267047</text></g></g><g class=\"column-cell\" transform=\"translate(0,121.609375)\"><rect class=\"cell-rect\" width=\"636\" stroke-width=\"1\" style=\"stroke: rgb(47, 79, 79); stroke-opacity: 1; fill: rgb(255, 255, 255); fill-opacity: 1;\" height=\"20\"/><g class=\"cell-text-holder\" transform=\"translate(8,8)\" text-anchor=\"start\" style=\"shape-rendering: geometricprecision;\"><text class=\"cell-text\" dy=\"0.75em\" style=\"cursor: auto; font-family: 'Open Sans', verdana, arial, sans-serif; font-size: 12px; fill: rgb(42, 63, 95); fill-opacity: 1;\">1459476</text></g></g><g class=\"column-cell\" transform=\"translate(0,141.609375)\"><rect class=\"cell-rect\" width=\"636\" stroke-width=\"1\" style=\"stroke: rgb(47, 79, 79); stroke-opacity: 1; fill: rgb(255, 255, 255); fill-opacity: 1;\" height=\"20\"/><g class=\"cell-text-holder\" transform=\"translate(8,8)\" text-anchor=\"start\" style=\"shape-rendering: geometricprecision;\"><text class=\"cell-text\" dy=\"0.75em\" style=\"cursor: auto; font-family: 'Open Sans', verdana, arial, sans-serif; font-size: 12px; fill: rgb(42, 63, 95); fill-opacity: 1;\">10.1074/jbc.M511148200</text></g></g></g></g><g class=\"column-block\" id=\"cells2\" transform=\"\" style=\"cursor: default;\"><g class=\"column-cells\"/></g><g class=\"column-block\" id=\"header\" style=\"cursor: ew-resize;\"><g class=\"column-cells\"><g class=\"column-cell\" transform=\"\"><rect class=\"cell-rect\" width=\"636\" stroke-width=\"1\" style=\"stroke: rgb(47, 79, 79); stroke-opacity: 1; fill: rgb(20, 75, 57); fill-opacity: 1;\" height=\"33\"/><g class=\"cell-text-holder\" transform=\"translate(283.5,21)\" style=\"shape-rendering: geometricprecision;\"><text class=\"cell-text\" dy=\"0\" x=\"0\" y=\"0\" style=\"cursor: auto; font-family: 'Open Sans', verdana, arial, sans-serif; font-size: 12px; fill: rgb(255, 255, 255); fill-opacity: 1; white-space: pre;\"><tspan style=\"font-weight:bold\">Description</tspan></text></g></g></g></g><g class=\"column-boundary\"/><clipPath class=\"column-boundary-clippath\" id=\"clip932079_columnBoundaryClippath_027438true_1\"><rect class=\"column-boundary-rect\" fill=\"none\" width=\"638\" height=\"182\" x=\"-1\" y=\"-1\"/></clipPath></g><g class=\"scrollbar-kit\" transform=\"translate(804,33)\" style=\"shape-rendering: geometricprecision;\"><g class=\"scrollbar\"><g class=\"scrollbar-slider\" transform=\"\"/></g></g><clipPath class=\"scroll-area-clip\" id=\"clip932079_scrollAreaBottomClip_027438true\"><rect class=\"scroll-area-clip-rect\" x=\"-45\" y=\"-5\" fill=\"none\" width=\"885\" height=\"180\"/></clipPath></g></g><defs id=\"topdefs-932079\"><g class=\"clips\"/></defs><g class=\"layer-above\"><g class=\"imagelayer\"/><g class=\"shapelayer\"/></g><g class=\"infolayer\"><g class=\"g-gtitle\"/></g></svg>"
      ]
     },
     "metadata": {},
     "output_type": "display_data"
    },
    {
     "name": "stdout",
     "output_type": "stream",
     "text": [
      "Warning: AmbiguousSolution\n",
      "CPU times: user 3min 7s, sys: 2min 6s, total: 5min 14s\n",
      "Wall time: 1min 2s\n"
     ]
    }
   ],
   "source": [
    "%%time\n",
    "df_temp = read_pubmed('Example_data/PMC1459476.xml', \n",
    "                      sim_cutoff=0.90 ,Print=False, Method = \"Offline\")\n",
    "G = Plot_data(df_temp)"
   ]
  },
  {
   "cell_type": "markdown",
   "metadata": {},
   "source": [
    "<div class=\"alert alert-block alert-success\">\n",
    "    <h2><b>Example 2 (Good):</b> PMC1802096</h2>\n",
    "    MOR1/GEM1 plays an essential role in the plant-specific cytokinetic phragmoplast. \n",
    "</div>"
   ]
  },
  {
   "cell_type": "code",
   "execution_count": 56,
   "metadata": {},
   "outputs": [
    {
     "data": {
      "image/svg+xml": [
       "<svg class=\"main-svg\" xmlns=\"http://www.w3.org/2000/svg\" xmlns:xlink=\"http://www.w3.org/1999/xlink\" width=\"800\" height=\"175\" style=\"\" viewBox=\"0 0 800 175\"><rect x=\"0\" y=\"0\" width=\"800\" height=\"175\" style=\"fill: rgb(255, 255, 255); fill-opacity: 1;\"/><defs id=\"defs-6cfd33\"><g class=\"clips\"/><g class=\"gradients\"/><g class=\"patterns\"/></defs><g class=\"bglayer\"/><g class=\"layer-below\"><g class=\"imagelayer\"/><g class=\"shapelayer\"/></g><g class=\"cartesianlayer\"/><g class=\"polarlayer\"/><g class=\"ternarylayer\"/><g class=\"geolayer\"/><g class=\"funnelarealayer\"/><g class=\"pielayer\"/><g class=\"iciclelayer\"/><g class=\"treemaplayer\"/><g class=\"sunburstlayer\"/><g class=\"glimages\"/><g class=\"table\" overflow=\"visible\" width=\"800\" height=\"175\" transform=\"\" style=\"box-sizing: content-box; position: absolute; left: 0px; overflow: visible; shape-rendering: crispedges; pointer-events: all;\"><g class=\"table-control-view\" transform=\"translate(5,0)\" clip-path=\"url(#clip6cfd33_scrollAreaBottomClip_0cfa48true)\" style=\"box-sizing: content-box;\"><rect class=\"scroll-background\" fill=\"none\" width=\"795\" height=\"175\"/><g class=\"y-column\" transform=\"\" clip-path=\"url(#clip6cfd33_columnBoundaryClippath_0cfa48true_0)\"><g class=\"column-block\" id=\"cells1\" transform=\"\" style=\"cursor: default;\"><g class=\"column-cells\"><g class=\"column-cell\" transform=\"translate(0,33)\"><rect class=\"cell-rect\" width=\"159\" stroke-width=\"1\" style=\"stroke: rgb(47, 79, 79); stroke-opacity: 1; fill: rgb(255, 212, 0); fill-opacity: 1;\" height=\"33\"/><g class=\"cell-text-holder\" transform=\"translate(8,21)\" style=\"shape-rendering: geometricprecision;\"><text class=\"cell-text\" dy=\"0\" x=\"0\" y=\"0\" style=\"cursor: auto; font-family: 'Open Sans', verdana, arial, sans-serif; font-size: 12px; fill: rgb(42, 63, 95); fill-opacity: 1; white-space: pre;\"><tspan style=\"font-weight:bold\">Paper Title</tspan></text></g></g><g class=\"column-cell\" transform=\"translate(0,66)\"><rect class=\"cell-rect\" width=\"159\" stroke-width=\"1\" style=\"stroke: rgb(47, 79, 79); stroke-opacity: 1; fill: rgb(255, 212, 0); fill-opacity: 1;\" height=\"20\"/><g class=\"cell-text-holder\" transform=\"translate(8,8)\" text-anchor=\"start\" style=\"shape-rendering: geometricprecision;\"><text class=\"cell-text\" dy=\"0.75em\" style=\"cursor: auto; font-family: 'Open Sans', verdana, arial, sans-serif; font-size: 12px; fill: rgb(42, 63, 95); fill-opacity: 1;\">Species</text></g></g><g class=\"column-cell\" transform=\"translate(0,86)\"><rect class=\"cell-rect\" width=\"159\" stroke-width=\"1\" style=\"stroke: rgb(47, 79, 79); stroke-opacity: 1; fill: rgb(255, 212, 0); fill-opacity: 1;\" height=\"20\"/><g class=\"cell-text-holder\" transform=\"translate(8,8)\" text-anchor=\"start\" style=\"shape-rendering: geometricprecision;\"><text class=\"cell-text\" dy=\"0.75em\" style=\"cursor: auto; font-family: 'Open Sans', verdana, arial, sans-serif; font-size: 12px; fill: rgb(42, 63, 95); fill-opacity: 1;\">pmid</text></g></g><g class=\"column-cell\" transform=\"translate(0,106)\"><rect class=\"cell-rect\" width=\"159\" stroke-width=\"1\" style=\"stroke: rgb(47, 79, 79); stroke-opacity: 1; fill: rgb(255, 212, 0); fill-opacity: 1;\" height=\"20\"/><g class=\"cell-text-holder\" transform=\"translate(8,8)\" text-anchor=\"start\" style=\"shape-rendering: geometricprecision;\"><text class=\"cell-text\" dy=\"0.75em\" style=\"cursor: auto; font-family: 'Open Sans', verdana, arial, sans-serif; font-size: 12px; fill: rgb(42, 63, 95); fill-opacity: 1;\">PMC</text></g></g><g class=\"column-cell\" transform=\"translate(0,126)\"><rect class=\"cell-rect\" width=\"159\" stroke-width=\"1\" style=\"stroke: rgb(47, 79, 79); stroke-opacity: 1; fill: rgb(255, 212, 0); fill-opacity: 1;\" height=\"20\"/><g class=\"cell-text-holder\" transform=\"translate(8,8)\" text-anchor=\"start\" style=\"shape-rendering: geometricprecision;\"><text class=\"cell-text\" dy=\"0.75em\" style=\"cursor: auto; font-family: 'Open Sans', verdana, arial, sans-serif; font-size: 12px; fill: rgb(42, 63, 95); fill-opacity: 1;\">DOI</text></g></g></g></g><g class=\"column-block\" id=\"cells2\" transform=\"\" style=\"cursor: default;\"><g class=\"column-cells\"/></g><g class=\"column-block\" id=\"header\" style=\"cursor: ew-resize;\"><g class=\"column-cells\"><g class=\"column-cell\" transform=\"\"><rect class=\"cell-rect\" width=\"159\" stroke-width=\"1\" style=\"stroke: rgb(47, 79, 79); stroke-opacity: 1; fill: rgb(20, 75, 57); fill-opacity: 1;\" height=\"33\"/><g class=\"cell-text-holder\" transform=\"translate(8,21)\" style=\"shape-rendering: geometricprecision;\"><text class=\"cell-text\" dy=\"0\" x=\"0\" y=\"0\" style=\"cursor: auto; font-family: 'Open Sans', verdana, arial, sans-serif; font-size: 12px; fill: rgb(255, 255, 255); fill-opacity: 1; white-space: pre;\"><tspan style=\"font-weight:bold\">Article information</tspan></text></g></g></g></g><g class=\"column-boundary\"/><clipPath class=\"column-boundary-clippath\" id=\"clip6cfd33_columnBoundaryClippath_0cfa48true_0\"><rect class=\"column-boundary-rect\" fill=\"none\" width=\"161\" height=\"182\" x=\"-1\" y=\"-1\"/></clipPath></g><g class=\"y-column\" transform=\"translate(159,0)\" clip-path=\"url(#clip6cfd33_columnBoundaryClippath_0cfa48true_1)\"><g class=\"column-block\" id=\"cells1\" transform=\"\" style=\"cursor: default;\"><g class=\"column-cells\"><g class=\"column-cell\" transform=\"translate(0,33)\"><rect class=\"cell-rect\" width=\"636\" stroke-width=\"1\" style=\"stroke: rgb(47, 79, 79); stroke-opacity: 1; fill: rgb(255, 255, 255); fill-opacity: 1;\" height=\"33\"/><g class=\"cell-text-holder\" transform=\"translate(8,21)\" style=\"shape-rendering: geometricprecision;\"><text class=\"cell-text\" dy=\"0\" x=\"0\" y=\"0\" style=\"cursor: auto; font-family: 'Open Sans', verdana, arial, sans-serif; font-size: 12px; fill: rgb(42, 63, 95); fill-opacity: 1; white-space: pre;\"><tspan style=\"font-weight:bold\">MOR1/GEM1 plays an essential role in the plant-specific cytokinetic phragmoplast</tspan></text></g></g><g class=\"column-cell\" transform=\"translate(0,66)\"><rect class=\"cell-rect\" width=\"636\" stroke-width=\"1\" style=\"stroke: rgb(47, 79, 79); stroke-opacity: 1; fill: rgb(255, 255, 255); fill-opacity: 1;\" height=\"20\"/><g class=\"cell-text-holder\" transform=\"translate(8,8)\" text-anchor=\"start\" style=\"shape-rendering: geometricprecision;\"><text class=\"cell-text\" dy=\"0.75em\" x=\"0\" y=\"0\" style=\"cursor: auto; font-family: 'Open Sans', verdana, arial, sans-serif; font-size: 12px; fill: rgb(42, 63, 95); fill-opacity: 1; white-space: pre;\">Arabidopsis; thaliana; A. thaliana; thaliana; A. thaliana</text></g></g><g class=\"column-cell\" transform=\"translate(0,86)\"><rect class=\"cell-rect\" width=\"636\" stroke-width=\"1\" style=\"stroke: rgb(47, 79, 79); stroke-opacity: 1; fill: rgb(255, 255, 255); fill-opacity: 1;\" height=\"20\"/><g class=\"cell-text-holder\" transform=\"translate(8,8)\" text-anchor=\"start\" style=\"shape-rendering: geometricprecision;\"><text class=\"cell-text\" dy=\"0.75em\" style=\"cursor: auto; font-family: 'Open Sans', verdana, arial, sans-serif; font-size: 12px; fill: rgb(42, 63, 95); fill-opacity: 1;\">12198497</text></g></g><g class=\"column-cell\" transform=\"translate(0,106)\"><rect class=\"cell-rect\" width=\"636\" stroke-width=\"1\" style=\"stroke: rgb(47, 79, 79); stroke-opacity: 1; fill: rgb(255, 255, 255); fill-opacity: 1;\" height=\"20\"/><g class=\"cell-text-holder\" transform=\"translate(8,8)\" text-anchor=\"start\" style=\"shape-rendering: geometricprecision;\"><text class=\"cell-text\" dy=\"0.75em\" style=\"cursor: auto; font-family: 'Open Sans', verdana, arial, sans-serif; font-size: 12px; fill: rgb(42, 63, 95); fill-opacity: 1;\">1802096</text></g></g><g class=\"column-cell\" transform=\"translate(0,126)\"><rect class=\"cell-rect\" width=\"636\" stroke-width=\"1\" style=\"stroke: rgb(47, 79, 79); stroke-opacity: 1; fill: rgb(255, 255, 255); fill-opacity: 1;\" height=\"20\"/><g class=\"cell-text-holder\" transform=\"translate(8,8)\" text-anchor=\"start\" style=\"shape-rendering: geometricprecision;\"><text class=\"cell-text\" dy=\"0.75em\" style=\"cursor: auto; font-family: 'Open Sans', verdana, arial, sans-serif; font-size: 12px; fill: rgb(42, 63, 95); fill-opacity: 1;\">10.1038/ncb844</text></g></g></g></g><g class=\"column-block\" id=\"cells2\" transform=\"\" style=\"cursor: default;\"><g class=\"column-cells\"/></g><g class=\"column-block\" id=\"header\" style=\"cursor: ew-resize;\"><g class=\"column-cells\"><g class=\"column-cell\" transform=\"\"><rect class=\"cell-rect\" width=\"636\" stroke-width=\"1\" style=\"stroke: rgb(47, 79, 79); stroke-opacity: 1; fill: rgb(20, 75, 57); fill-opacity: 1;\" height=\"33\"/><g class=\"cell-text-holder\" transform=\"translate(283.5,21)\" style=\"shape-rendering: geometricprecision;\"><text class=\"cell-text\" dy=\"0\" x=\"0\" y=\"0\" style=\"cursor: auto; font-family: 'Open Sans', verdana, arial, sans-serif; font-size: 12px; fill: rgb(255, 255, 255); fill-opacity: 1; white-space: pre;\"><tspan style=\"font-weight:bold\">Description</tspan></text></g></g></g></g><g class=\"column-boundary\"/><clipPath class=\"column-boundary-clippath\" id=\"clip6cfd33_columnBoundaryClippath_0cfa48true_1\"><rect class=\"column-boundary-rect\" fill=\"none\" width=\"638\" height=\"182\" x=\"-1\" y=\"-1\"/></clipPath></g><g class=\"scrollbar-kit\" transform=\"translate(804,33)\" style=\"shape-rendering: geometricprecision;\"><g class=\"scrollbar\"><g class=\"scrollbar-slider\" transform=\"\"/></g></g><clipPath class=\"scroll-area-clip\" id=\"clip6cfd33_scrollAreaBottomClip_0cfa48true\"><rect class=\"scroll-area-clip-rect\" x=\"-45\" y=\"-5\" fill=\"none\" width=\"885\" height=\"180\"/></clipPath></g></g><defs id=\"topdefs-6cfd33\"><g class=\"clips\"/></defs><g class=\"layer-above\"><g class=\"imagelayer\"/><g class=\"shapelayer\"/></g><g class=\"infolayer\"><g class=\"g-gtitle\"/></g></svg>"
      ]
     },
     "metadata": {},
     "output_type": "display_data"
    },
    {
     "data": {
      "image/svg+xml": [
       "<svg class=\"main-svg\" xmlns=\"http://www.w3.org/2000/svg\" xmlns:xlink=\"http://www.w3.org/1999/xlink\" width=\"700\" height=\"500\" style=\"\" viewBox=\"0 0 700 500\"><rect x=\"0\" y=\"0\" width=\"700\" height=\"500\" style=\"fill: rgb(255, 255, 255); fill-opacity: 1;\"/><defs id=\"defs-1cc0a9\"><g class=\"clips\"/><g class=\"gradients\"/><g class=\"patterns\"/></defs><g class=\"bglayer\"/><g class=\"layer-below\"><g class=\"imagelayer\"/><g class=\"shapelayer\"/></g><g class=\"cartesianlayer\"/><g class=\"polarlayer\"/><g class=\"ternarylayer\"/><g class=\"geolayer\"/><g class=\"funnelarealayer\"/><g class=\"pielayer\"/><g class=\"iciclelayer\"/><g class=\"treemaplayer\"/><g class=\"sunburstlayer\"/><g class=\"glimages\"/><g class=\"table\" overflow=\"visible\" width=\"700\" height=\"500\" transform=\"\" style=\"box-sizing: content-box; position: absolute; left: 0px; overflow: visible; shape-rendering: crispedges; pointer-events: all;\"><g class=\"table-control-view\" transform=\"translate(5,0)\" clip-path=\"url(#clip1cc0a9_scrollAreaBottomClip_e8acc6true)\" style=\"box-sizing: content-box;\"><rect class=\"scroll-background\" fill=\"none\" width=\"690\" height=\"500\"/><g class=\"y-column\" transform=\"\" clip-path=\"url(#clip1cc0a9_columnBoundaryClippath_e8acc6true_0)\"><g class=\"column-block\" id=\"cells1\" transform=\"\" style=\"cursor: default;\"><g class=\"column-cells\"><g class=\"column-cell\" transform=\"translate(0,28)\"><rect class=\"cell-rect\" width=\"138\" stroke-width=\"1\" style=\"stroke: rgb(128, 188, 0); stroke-opacity: 1; fill: rgb(255, 255, 255); fill-opacity: 1;\" height=\"64.203125\"/><g class=\"cell-text-holder\" transform=\"translate(8,8)\" text-anchor=\"start\" style=\"shape-rendering: geometricprecision;\"><text class=\"cell-text\" dy=\"0.75em\" style=\"cursor: auto; font-family: 'Open Sans', verdana, arial, sans-serif; font-size: 12px; fill: rgb(20, 75, 57); fill-opacity: 1;\">MOR1</text></g></g><g class=\"column-cell\" transform=\"translate(0,92.203125)\"><rect class=\"cell-rect\" width=\"138\" stroke-width=\"1\" style=\"stroke: rgb(128, 188, 0); stroke-opacity: 1; fill: rgb(255, 255, 255); fill-opacity: 1;\" height=\"64.203125\"/><g class=\"cell-text-holder\" transform=\"translate(8,8)\" text-anchor=\"start\" style=\"shape-rendering: geometricprecision;\"><text class=\"cell-text\" dy=\"0.75em\" style=\"cursor: auto; font-family: 'Open Sans', verdana, arial, sans-serif; font-size: 12px; fill: rgb(20, 75, 57); fill-opacity: 1;\">MOR1</text></g></g><g class=\"column-cell\" transform=\"translate(0,156.40625)\"><rect class=\"cell-rect\" width=\"138\" stroke-width=\"1\" style=\"stroke: rgb(128, 188, 0); stroke-opacity: 1; fill: rgb(255, 255, 255); fill-opacity: 1;\" height=\"48.609375\"/><g class=\"cell-text-holder\" transform=\"translate(8,8)\" text-anchor=\"start\" style=\"shape-rendering: geometricprecision;\"><text class=\"cell-text\" dy=\"0.75em\" style=\"cursor: auto; font-family: 'Open Sans', verdana, arial, sans-serif; font-size: 12px; fill: rgb(20, 75, 57); fill-opacity: 1;\">MOR1</text></g></g><g class=\"column-cell\" transform=\"translate(0,205.015625)\"><rect class=\"cell-rect\" width=\"138\" stroke-width=\"1\" style=\"stroke: rgb(128, 188, 0); stroke-opacity: 1; fill: rgb(255, 255, 255); fill-opacity: 1;\" height=\"79.8125\"/><g class=\"cell-text-holder\" transform=\"translate(8,8)\" text-anchor=\"start\" style=\"shape-rendering: geometricprecision;\"><text class=\"cell-text\" dy=\"0.75em\" style=\"cursor: auto; font-family: 'Open Sans', verdana, arial, sans-serif; font-size: 12px; fill: rgb(20, 75, 57); fill-opacity: 1;\">MOR1</text></g></g><g class=\"column-cell\" transform=\"translate(0,284.828125)\"><rect class=\"cell-rect\" width=\"138\" stroke-width=\"1\" style=\"stroke: rgb(128, 188, 0); stroke-opacity: 1; fill: rgb(255, 255, 255); fill-opacity: 1;\" height=\"48.609375\"/><g class=\"cell-text-holder\" transform=\"translate(8,8)\" text-anchor=\"start\" style=\"shape-rendering: geometricprecision;\"><text class=\"cell-text\" dy=\"0.75em\" style=\"cursor: auto; font-family: 'Open Sans', verdana, arial, sans-serif; font-size: 12px; fill: rgb(20, 75, 57); fill-opacity: 1;\">MOR1</text></g></g><g class=\"column-cell\" transform=\"translate(0,333.4375)\"><rect class=\"cell-rect\" width=\"138\" stroke-width=\"1\" style=\"stroke: rgb(128, 188, 0); stroke-opacity: 1; fill: rgb(255, 255, 255); fill-opacity: 1;\" height=\"64.203125\"/><g class=\"cell-text-holder\" transform=\"translate(8,8)\" text-anchor=\"start\" style=\"shape-rendering: geometricprecision;\"><text class=\"cell-text\" dy=\"0.75em\" style=\"cursor: auto; font-family: 'Open Sans', verdana, arial, sans-serif; font-size: 12px; fill: rgb(20, 75, 57); fill-opacity: 1;\">MOR1</text></g></g><g class=\"column-cell\" transform=\"translate(0,397.640625)\"><rect class=\"cell-rect\" width=\"138\" stroke-width=\"1\" style=\"stroke: rgb(128, 188, 0); stroke-opacity: 1; fill: rgb(255, 255, 255); fill-opacity: 1;\" height=\"20\"/><g class=\"cell-text-holder\" transform=\"translate(8,8)\" text-anchor=\"start\" style=\"shape-rendering: geometricprecision;\"><text class=\"cell-text\" dy=\"0.75em\" style=\"cursor: auto; font-family: 'Open Sans', verdana, arial, sans-serif; font-size: 12px; fill: rgb(20, 75, 57); fill-opacity: 1;\">GEM1</text></g></g><g class=\"column-cell\" transform=\"translate(0,417.640625)\"><rect class=\"cell-rect\" width=\"138\" stroke-width=\"1\" style=\"stroke: rgb(128, 188, 0); stroke-opacity: 1; fill: rgb(255, 255, 255); fill-opacity: 1;\" height=\"20\"/><g class=\"cell-text-holder\" transform=\"translate(8,8)\" text-anchor=\"start\" style=\"shape-rendering: geometricprecision;\"><text class=\"cell-text\" dy=\"0.75em\" style=\"cursor: auto; font-family: 'Open Sans', verdana, arial, sans-serif; font-size: 12px; fill: rgb(20, 75, 57); fill-opacity: 1;\">GEM1</text></g></g><g class=\"column-cell\" transform=\"translate(0,437.640625)\"><rect class=\"cell-rect\" width=\"138\" stroke-width=\"1\" style=\"stroke: rgb(128, 188, 0); stroke-opacity: 1; fill: rgb(255, 255, 255); fill-opacity: 1;\" height=\"48.609375\"/><g class=\"cell-text-holder\" transform=\"translate(8,8)\" text-anchor=\"start\" style=\"shape-rendering: geometricprecision;\"><text class=\"cell-text\" dy=\"0.75em\" style=\"cursor: auto; font-family: 'Open Sans', verdana, arial, sans-serif; font-size: 12px; fill: rgb(20, 75, 57); fill-opacity: 1;\">GEM1</text></g></g><g class=\"column-cell\" transform=\"translate(0,486.25)\"><rect class=\"cell-rect\" width=\"138\" stroke-width=\"1\" style=\"stroke: rgb(128, 188, 0); stroke-opacity: 1; fill: rgb(255, 255, 255); fill-opacity: 1;\" height=\"64.203125\"/><g class=\"cell-text-holder\" transform=\"translate(8,8)\" text-anchor=\"start\" style=\"shape-rendering: geometricprecision;\"><text class=\"cell-text\" dy=\"0.75em\" style=\"cursor: auto; font-family: 'Open Sans', verdana, arial, sans-serif; font-size: 12px; fill: rgb(20, 75, 57); fill-opacity: 1;\">GEM1</text></g></g><g class=\"column-cell\" transform=\"translate(0,550.453125)\"><rect class=\"cell-rect\" width=\"138\" stroke-width=\"1\" style=\"stroke: rgb(128, 188, 0); stroke-opacity: 1; fill: rgb(255, 255, 255); fill-opacity: 1;\" height=\"20\"/><g class=\"cell-text-holder\" transform=\"translate(8,8)\" text-anchor=\"start\" style=\"shape-rendering: geometricprecision;\"><text class=\"cell-text\" dy=\"0.75em\" style=\"cursor: auto; font-family: 'Open Sans', verdana, arial, sans-serif; font-size: 12px; fill: rgb(20, 75, 57); fill-opacity: 1;\">GEM1</text></g></g><g class=\"column-cell\" transform=\"translate(0,570.453125)\"><rect class=\"cell-rect\" width=\"138\" stroke-width=\"1\" style=\"stroke: rgb(128, 188, 0); stroke-opacity: 1; fill: rgb(255, 255, 255); fill-opacity: 1;\" height=\"20\"/><g class=\"cell-text-holder\" transform=\"translate(8,8)\" text-anchor=\"start\" style=\"shape-rendering: geometricprecision;\"><text class=\"cell-text\" dy=\"0.75em\" style=\"cursor: auto; font-family: 'Open Sans', verdana, arial, sans-serif; font-size: 12px; fill: rgb(20, 75, 57); fill-opacity: 1;\">GEM1</text></g></g><g class=\"column-cell\" transform=\"translate(0,590.453125)\"><rect class=\"cell-rect\" width=\"138\" stroke-width=\"1\" style=\"stroke: rgb(128, 188, 0); stroke-opacity: 1; fill: rgb(255, 255, 255); fill-opacity: 1;\" height=\"48.609375\"/><g class=\"cell-text-holder\" transform=\"translate(8,8)\" text-anchor=\"start\" style=\"shape-rendering: geometricprecision;\"><text class=\"cell-text\" dy=\"0.75em\" style=\"cursor: auto; font-family: 'Open Sans', verdana, arial, sans-serif; font-size: 12px; fill: rgb(20, 75, 57); fill-opacity: 1;\">MOR1</text></g></g><g class=\"column-cell\" transform=\"translate(0,639.0625)\"><rect class=\"cell-rect\" width=\"138\" stroke-width=\"1\" style=\"stroke: rgb(128, 188, 0); stroke-opacity: 1; fill: rgb(255, 255, 255); fill-opacity: 1;\" height=\"48.609375\"/><g class=\"cell-text-holder\" transform=\"translate(8,8)\" text-anchor=\"start\" style=\"shape-rendering: geometricprecision;\"><text class=\"cell-text\" dy=\"0.75em\" style=\"cursor: auto; font-family: 'Open Sans', verdana, arial, sans-serif; font-size: 12px; fill: rgb(20, 75, 57); fill-opacity: 1;\">GEM1</text></g></g><g class=\"column-cell\" transform=\"translate(0,687.671875)\"><rect class=\"cell-rect\" width=\"138\" stroke-width=\"1\" style=\"stroke: rgb(128, 188, 0); stroke-opacity: 1; fill: rgb(255, 255, 255); fill-opacity: 1;\" height=\"48.609375\"/><g class=\"cell-text-holder\" transform=\"translate(8,8)\" text-anchor=\"start\" style=\"shape-rendering: geometricprecision;\"><text class=\"cell-text\" dy=\"0.75em\" style=\"cursor: auto; font-family: 'Open Sans', verdana, arial, sans-serif; font-size: 12px; fill: rgb(20, 75, 57); fill-opacity: 1;\">AG</text></g></g><g class=\"column-cell\" transform=\"translate(0,736.28125)\"><rect class=\"cell-rect\" width=\"138\" stroke-width=\"1\" style=\"stroke: rgb(128, 188, 0); stroke-opacity: 1; fill: rgb(255, 255, 255); fill-opacity: 1;\" height=\"48.609375\"/><g class=\"cell-text-holder\" transform=\"translate(8,8)\" text-anchor=\"start\" style=\"shape-rendering: geometricprecision;\"><text class=\"cell-text\" dy=\"0.75em\" style=\"cursor: auto; font-family: 'Open Sans', verdana, arial, sans-serif; font-size: 12px; fill: rgb(20, 75, 57); fill-opacity: 1;\">GEM</text></g></g><g class=\"column-cell\" transform=\"translate(0,784.890625)\"><rect class=\"cell-rect\" width=\"138\" stroke-width=\"1\" style=\"stroke: rgb(128, 188, 0); stroke-opacity: 1; fill: rgb(255, 255, 255); fill-opacity: 1;\" height=\"48.609375\"/><g class=\"cell-text-holder\" transform=\"translate(8,8)\" text-anchor=\"start\" style=\"shape-rendering: geometricprecision;\"><text class=\"cell-text\" dy=\"0.75em\" style=\"cursor: auto; font-family: 'Open Sans', verdana, arial, sans-serif; font-size: 12px; fill: rgb(20, 75, 57); fill-opacity: 1;\">GEM1</text></g></g><g class=\"column-cell\" transform=\"translate(0,833.5)\"><rect class=\"cell-rect\" width=\"138\" stroke-width=\"1\" style=\"stroke: rgb(128, 188, 0); stroke-opacity: 1; fill: rgb(255, 255, 255); fill-opacity: 1;\" height=\"64.203125\"/><g class=\"cell-text-holder\" transform=\"translate(8,8)\" text-anchor=\"start\" style=\"shape-rendering: geometricprecision;\"><text class=\"cell-text\" dy=\"0.75em\" style=\"cursor: auto; font-family: 'Open Sans', verdana, arial, sans-serif; font-size: 12px; fill: rgb(20, 75, 57); fill-opacity: 1;\">GEM1</text></g></g><g class=\"column-cell\" transform=\"translate(0,897.703125)\"><rect class=\"cell-rect\" width=\"138\" stroke-width=\"1\" style=\"stroke: rgb(128, 188, 0); stroke-opacity: 1; fill: rgb(255, 255, 255); fill-opacity: 1;\" height=\"20\"/><g class=\"cell-text-holder\" transform=\"translate(8,8)\" text-anchor=\"start\" style=\"shape-rendering: geometricprecision;\"><text class=\"cell-text\" dy=\"0.75em\" style=\"cursor: auto; font-family: 'Open Sans', verdana, arial, sans-serif; font-size: 12px; fill: rgb(20, 75, 57); fill-opacity: 1;\">GEM1</text></g></g><g class=\"column-cell\" transform=\"translate(0,917.703125)\"><rect class=\"cell-rect\" width=\"138\" stroke-width=\"1\" style=\"stroke: rgb(128, 188, 0); stroke-opacity: 1; fill: rgb(255, 255, 255); fill-opacity: 1;\" height=\"64.203125\"/><g class=\"cell-text-holder\" transform=\"translate(8,8)\" text-anchor=\"start\" style=\"shape-rendering: geometricprecision;\"><text class=\"cell-text\" dy=\"0.75em\" style=\"cursor: auto; font-family: 'Open Sans', verdana, arial, sans-serif; font-size: 12px; fill: rgb(20, 75, 57); fill-opacity: 1;\">GEM1</text></g></g></g></g><g class=\"column-block\" id=\"cells2\" transform=\"\" style=\"cursor: default;\"><g class=\"column-cells\"/></g><g class=\"column-block\" id=\"header\" style=\"cursor: ew-resize;\"><g class=\"column-cells\"><g class=\"column-cell\" transform=\"\"><rect class=\"cell-rect\" width=\"138\" stroke-width=\"1\" height=\"28\" style=\"stroke: rgb(255, 212, 0); stroke-opacity: 1; fill: rgb(20, 75, 57); fill-opacity: 1;\"/><g class=\"cell-text-holder\" transform=\"translate(8,8)\" text-anchor=\"start\" style=\"shape-rendering: geometricprecision;\"><text class=\"cell-text\" dy=\"0.75em\" style=\"cursor: auto; font-family: 'Open Sans', verdana, arial, sans-serif; font-size: 12px; fill: rgb(255, 255, 255); fill-opacity: 1;\">Genes</text></g></g></g></g><g class=\"column-boundary\"/><clipPath class=\"column-boundary-clippath\" id=\"clip1cc0a9_columnBoundaryClippath_e8acc6true_0\"><rect class=\"column-boundary-rect\" fill=\"none\" width=\"140\" height=\"507\" x=\"-1\" y=\"-1\"/></clipPath></g><g class=\"y-column\" transform=\"translate(138,0)\" clip-path=\"url(#clip1cc0a9_columnBoundaryClippath_e8acc6true_1)\"><g class=\"column-block\" id=\"cells1\" transform=\"\" style=\"cursor: default;\"><g class=\"column-cells\"><g class=\"column-cell\" transform=\"translate(0,28)\"><rect class=\"cell-rect\" width=\"138\" stroke-width=\"1\" style=\"stroke: rgb(128, 188, 0); stroke-opacity: 1; fill: rgb(255, 255, 255); fill-opacity: 1;\" height=\"64.203125\"/><g class=\"cell-text-holder\" transform=\"translate(8,8)\" text-anchor=\"start\" style=\"shape-rendering: geometricprecision;\"><text class=\"cell-text\" dy=\"0.75em\" style=\"cursor: auto; font-family: 'Open Sans', verdana, arial, sans-serif; font-size: 12px; fill: rgb(20, 75, 57); fill-opacity: 1;\">GO:0034314</text></g></g><g class=\"column-cell\" transform=\"translate(0,92.203125)\"><rect class=\"cell-rect\" width=\"138\" stroke-width=\"1\" style=\"stroke: rgb(128, 188, 0); stroke-opacity: 1; fill: rgb(255, 255, 255); fill-opacity: 1;\" height=\"64.203125\"/><g class=\"cell-text-holder\" transform=\"translate(8,8)\" text-anchor=\"start\" style=\"shape-rendering: geometricprecision;\"><text class=\"cell-text\" dy=\"0.75em\" style=\"cursor: auto; font-family: 'Open Sans', verdana, arial, sans-serif; font-size: 12px; fill: rgb(20, 75, 57); fill-opacity: 1;\">GO:0080175</text></g></g><g class=\"column-cell\" transform=\"translate(0,156.40625)\"><rect class=\"cell-rect\" width=\"138\" stroke-width=\"1\" style=\"stroke: rgb(128, 188, 0); stroke-opacity: 1; fill: rgb(255, 255, 255); fill-opacity: 1;\" height=\"48.609375\"/><g class=\"cell-text-holder\" transform=\"translate(8,8)\" text-anchor=\"start\" style=\"shape-rendering: geometricprecision;\"><text class=\"cell-text\" dy=\"0.75em\" style=\"cursor: auto; font-family: 'Open Sans', verdana, arial, sans-serif; font-size: 12px; fill: rgb(20, 75, 57); fill-opacity: 1;\">GO:0061640</text></g></g><g class=\"column-cell\" transform=\"translate(0,205.015625)\"><rect class=\"cell-rect\" width=\"138\" stroke-width=\"1\" style=\"stroke: rgb(128, 188, 0); stroke-opacity: 1; fill: rgb(255, 255, 255); fill-opacity: 1;\" height=\"79.8125\"/><g class=\"cell-text-holder\" transform=\"translate(8,8)\" text-anchor=\"start\" style=\"shape-rendering: geometricprecision;\"><text class=\"cell-text\" dy=\"0.75em\" style=\"cursor: auto; font-family: 'Open Sans', verdana, arial, sans-serif; font-size: 12px; fill: rgb(20, 75, 57); fill-opacity: 1;\">GO:0031110</text></g></g><g class=\"column-cell\" transform=\"translate(0,284.828125)\"><rect class=\"cell-rect\" width=\"138\" stroke-width=\"1\" style=\"stroke: rgb(128, 188, 0); stroke-opacity: 1; fill: rgb(255, 255, 255); fill-opacity: 1;\" height=\"48.609375\"/><g class=\"cell-text-holder\" transform=\"translate(8,8)\" text-anchor=\"start\" style=\"shape-rendering: geometricprecision;\"><text class=\"cell-text\" dy=\"0.75em\" style=\"cursor: auto; font-family: 'Open Sans', verdana, arial, sans-serif; font-size: 12px; fill: rgb(20, 75, 57); fill-opacity: 1;\">GO:0000913</text></g></g><g class=\"column-cell\" transform=\"translate(0,333.4375)\"><rect class=\"cell-rect\" width=\"138\" stroke-width=\"1\" style=\"stroke: rgb(128, 188, 0); stroke-opacity: 1; fill: rgb(255, 255, 255); fill-opacity: 1;\" height=\"64.203125\"/><g class=\"cell-text-holder\" transform=\"translate(8,8)\" text-anchor=\"start\" style=\"shape-rendering: geometricprecision;\"><text class=\"cell-text\" dy=\"0.75em\" style=\"cursor: auto; font-family: 'Open Sans', verdana, arial, sans-serif; font-size: 12px; fill: rgb(20, 75, 57); fill-opacity: 1;\">GO:0051598</text></g></g><g class=\"column-cell\" transform=\"translate(0,397.640625)\"><rect class=\"cell-rect\" width=\"138\" stroke-width=\"1\" style=\"stroke: rgb(128, 188, 0); stroke-opacity: 1; fill: rgb(255, 255, 255); fill-opacity: 1;\" height=\"20\"/><g class=\"cell-text-holder\" transform=\"translate(8,8)\" text-anchor=\"start\" style=\"shape-rendering: geometricprecision;\"><text class=\"cell-text\" dy=\"0.75em\" style=\"cursor: auto; font-family: 'Open Sans', verdana, arial, sans-serif; font-size: 12px; fill: rgb(20, 75, 57); fill-opacity: 1;\">GO:0009555</text></g></g><g class=\"column-cell\" transform=\"translate(0,417.640625)\"><rect class=\"cell-rect\" width=\"138\" stroke-width=\"1\" style=\"stroke: rgb(128, 188, 0); stroke-opacity: 1; fill: rgb(255, 255, 255); fill-opacity: 1;\" height=\"20\"/><g class=\"cell-text-holder\" transform=\"translate(8,8)\" text-anchor=\"start\" style=\"shape-rendering: geometricprecision;\"><text class=\"cell-text\" dy=\"0.75em\" style=\"cursor: auto; font-family: 'Open Sans', verdana, arial, sans-serif; font-size: 12px; fill: rgb(20, 75, 57); fill-opacity: 1;\">GO:0009561</text></g></g><g class=\"column-cell\" transform=\"translate(0,437.640625)\"><rect class=\"cell-rect\" width=\"138\" stroke-width=\"1\" style=\"stroke: rgb(128, 188, 0); stroke-opacity: 1; fill: rgb(255, 255, 255); fill-opacity: 1;\" height=\"48.609375\"/><g class=\"cell-text-holder\" transform=\"translate(8,8)\" text-anchor=\"start\" style=\"shape-rendering: geometricprecision;\"><text class=\"cell-text\" dy=\"0.75em\" style=\"cursor: auto; font-family: 'Open Sans', verdana, arial, sans-serif; font-size: 12px; fill: rgb(20, 75, 57); fill-opacity: 1;\">GO:0022619</text></g></g><g class=\"column-cell\" transform=\"translate(0,486.25)\"><rect class=\"cell-rect\" width=\"138\" stroke-width=\"1\" style=\"stroke: rgb(128, 188, 0); stroke-opacity: 1; fill: rgb(255, 255, 255); fill-opacity: 1;\" height=\"64.203125\"/><g class=\"cell-text-holder\" transform=\"translate(8,8)\" text-anchor=\"start\" style=\"shape-rendering: geometricprecision;\"><text class=\"cell-text\" dy=\"0.75em\" style=\"cursor: auto; font-family: 'Open Sans', verdana, arial, sans-serif; font-size: 12px; fill: rgb(20, 75, 57); fill-opacity: 1;\">GO:0051598</text></g></g><g class=\"column-cell\" transform=\"translate(0,550.453125)\"><rect class=\"cell-rect\" width=\"138\" stroke-width=\"1\" style=\"stroke: rgb(128, 188, 0); stroke-opacity: 1; fill: rgb(255, 255, 255); fill-opacity: 1;\" height=\"20\"/><g class=\"cell-text-holder\" transform=\"translate(8,8)\" text-anchor=\"start\" style=\"shape-rendering: geometricprecision;\"><text class=\"cell-text\" dy=\"0.75em\" style=\"cursor: auto; font-family: 'Open Sans', verdana, arial, sans-serif; font-size: 12px; fill: rgb(20, 75, 57); fill-opacity: 1;\">GO:0009561</text></g></g><g class=\"column-cell\" transform=\"translate(0,570.453125)\"><rect class=\"cell-rect\" width=\"138\" stroke-width=\"1\" style=\"stroke: rgb(128, 188, 0); stroke-opacity: 1; fill: rgb(255, 255, 255); fill-opacity: 1;\" height=\"20\"/><g class=\"cell-text-holder\" transform=\"translate(8,8)\" text-anchor=\"start\" style=\"shape-rendering: geometricprecision;\"><text class=\"cell-text\" dy=\"0.75em\" style=\"cursor: auto; font-family: 'Open Sans', verdana, arial, sans-serif; font-size: 12px; fill: rgb(20, 75, 57); fill-opacity: 1;\">GO:0009554</text></g></g><g class=\"column-cell\" transform=\"translate(0,590.453125)\"><rect class=\"cell-rect\" width=\"138\" stroke-width=\"1\" style=\"stroke: rgb(128, 188, 0); stroke-opacity: 1; fill: rgb(255, 255, 255); fill-opacity: 1;\" height=\"48.609375\"/><g class=\"cell-text-holder\" transform=\"translate(8,8)\" text-anchor=\"start\" style=\"shape-rendering: geometricprecision;\"><text class=\"cell-text\" dy=\"0.75em\" style=\"cursor: auto; font-family: 'Open Sans', verdana, arial, sans-serif; font-size: 12px; fill: rgb(20, 75, 57); fill-opacity: 1;\">GO:0071586</text></g></g><g class=\"column-cell\" transform=\"translate(0,639.0625)\"><rect class=\"cell-rect\" width=\"138\" stroke-width=\"1\" style=\"stroke: rgb(128, 188, 0); stroke-opacity: 1; fill: rgb(255, 255, 255); fill-opacity: 1;\" height=\"48.609375\"/><g class=\"cell-text-holder\" transform=\"translate(8,8)\" text-anchor=\"start\" style=\"shape-rendering: geometricprecision;\"><text class=\"cell-text\" dy=\"0.75em\" style=\"cursor: auto; font-family: 'Open Sans', verdana, arial, sans-serif; font-size: 12px; fill: rgb(20, 75, 57); fill-opacity: 1;\">GO:0071586</text></g></g><g class=\"column-cell\" transform=\"translate(0,687.671875)\"><rect class=\"cell-rect\" width=\"138\" stroke-width=\"1\" style=\"stroke: rgb(128, 188, 0); stroke-opacity: 1; fill: rgb(255, 255, 255); fill-opacity: 1;\" height=\"48.609375\"/><g class=\"cell-text-holder\" transform=\"translate(8,8)\" text-anchor=\"start\" style=\"shape-rendering: geometricprecision;\"><text class=\"cell-text\" dy=\"0.75em\" style=\"cursor: auto; font-family: 'Open Sans', verdana, arial, sans-serif; font-size: 12px; fill: rgb(20, 75, 57); fill-opacity: 1;\">GO:0071586</text></g></g><g class=\"column-cell\" transform=\"translate(0,736.28125)\"><rect class=\"cell-rect\" width=\"138\" stroke-width=\"1\" style=\"stroke: rgb(128, 188, 0); stroke-opacity: 1; fill: rgb(255, 255, 255); fill-opacity: 1;\" height=\"48.609375\"/><g class=\"cell-text-holder\" transform=\"translate(8,8)\" text-anchor=\"start\" style=\"shape-rendering: geometricprecision;\"><text class=\"cell-text\" dy=\"0.75em\" style=\"cursor: auto; font-family: 'Open Sans', verdana, arial, sans-serif; font-size: 12px; fill: rgb(20, 75, 57); fill-opacity: 1;\">GO:0071586</text></g></g><g class=\"column-cell\" transform=\"translate(0,784.890625)\"><rect class=\"cell-rect\" width=\"138\" stroke-width=\"1\" style=\"stroke: rgb(128, 188, 0); stroke-opacity: 1; fill: rgb(255, 255, 255); fill-opacity: 1;\" height=\"48.609375\"/><g class=\"cell-text-holder\" transform=\"translate(8,8)\" text-anchor=\"start\" style=\"shape-rendering: geometricprecision;\"><text class=\"cell-text\" dy=\"0.75em\" style=\"cursor: auto; font-family: 'Open Sans', verdana, arial, sans-serif; font-size: 12px; fill: rgb(20, 75, 57); fill-opacity: 1;\">GO:0071586</text></g></g><g class=\"column-cell\" transform=\"translate(0,833.5)\"><rect class=\"cell-rect\" width=\"138\" stroke-width=\"1\" style=\"stroke: rgb(128, 188, 0); stroke-opacity: 1; fill: rgb(255, 255, 255); fill-opacity: 1;\" height=\"64.203125\"/><g class=\"cell-text-holder\" transform=\"translate(8,8)\" text-anchor=\"start\" style=\"shape-rendering: geometricprecision;\"><text class=\"cell-text\" dy=\"0.75em\" style=\"cursor: auto; font-family: 'Open Sans', verdana, arial, sans-serif; font-size: 12px; fill: rgb(20, 75, 57); fill-opacity: 1;\">GO:0007129</text></g></g><g class=\"column-cell\" transform=\"translate(0,897.703125)\"><rect class=\"cell-rect\" width=\"138\" stroke-width=\"1\" style=\"stroke: rgb(128, 188, 0); stroke-opacity: 1; fill: rgb(255, 255, 255); fill-opacity: 1;\" height=\"20\"/><g class=\"cell-text-holder\" transform=\"translate(8,8)\" text-anchor=\"start\" style=\"shape-rendering: geometricprecision;\"><text class=\"cell-text\" dy=\"0.75em\" style=\"cursor: auto; font-family: 'Open Sans', verdana, arial, sans-serif; font-size: 12px; fill: rgb(20, 75, 57); fill-opacity: 1;\">GO:0051026</text></g></g><g class=\"column-cell\" transform=\"translate(0,917.703125)\"><rect class=\"cell-rect\" width=\"138\" stroke-width=\"1\" style=\"stroke: rgb(128, 188, 0); stroke-opacity: 1; fill: rgb(255, 255, 255); fill-opacity: 1;\" height=\"64.203125\"/><g class=\"cell-text-holder\" transform=\"translate(8,8)\" text-anchor=\"start\" style=\"shape-rendering: geometricprecision;\"><text class=\"cell-text\" dy=\"0.75em\" style=\"cursor: auto; font-family: 'Open Sans', verdana, arial, sans-serif; font-size: 12px; fill: rgb(20, 75, 57); fill-opacity: 1;\">GO:0034314</text></g></g></g></g><g class=\"column-block\" id=\"cells2\" transform=\"\" style=\"cursor: default;\"><g class=\"column-cells\"/></g><g class=\"column-block\" id=\"header\" style=\"cursor: ew-resize;\"><g class=\"column-cells\"><g class=\"column-cell\" transform=\"\"><rect class=\"cell-rect\" width=\"138\" stroke-width=\"1\" height=\"28\" style=\"stroke: rgb(255, 212, 0); stroke-opacity: 1; fill: rgb(20, 75, 57); fill-opacity: 1;\"/><g class=\"cell-text-holder\" transform=\"translate(8,8)\" text-anchor=\"start\" style=\"shape-rendering: geometricprecision;\"><text class=\"cell-text\" dy=\"0.75em\" style=\"cursor: auto; font-family: 'Open Sans', verdana, arial, sans-serif; font-size: 12px; fill: rgb(255, 255, 255); fill-opacity: 1;\">GO</text></g></g></g></g><g class=\"column-boundary\"/><clipPath class=\"column-boundary-clippath\" id=\"clip1cc0a9_columnBoundaryClippath_e8acc6true_1\"><rect class=\"column-boundary-rect\" fill=\"none\" width=\"140\" height=\"507\" x=\"-1\" y=\"-1\"/></clipPath></g><g class=\"y-column\" transform=\"translate(276,0)\" clip-path=\"url(#clip1cc0a9_columnBoundaryClippath_e8acc6true_2)\"><g class=\"column-block\" id=\"cells1\" transform=\"\" style=\"cursor: default;\"><g class=\"column-cells\"><g class=\"column-cell\" transform=\"translate(0,28)\"><rect class=\"cell-rect\" width=\"138\" stroke-width=\"1\" style=\"stroke: rgb(128, 188, 0); stroke-opacity: 1; fill: rgb(255, 255, 255); fill-opacity: 1;\" height=\"64.203125\"/><g class=\"cell-text-holder\" transform=\"translate(8,21)\" style=\"shape-rendering: geometricprecision;\"><text class=\"cell-text\" dy=\"0\" x=\"0\" y=\"0\" style=\"cursor: auto; font-family: 'Open Sans', verdana, arial, sans-serif; font-size: 12px; fill: rgb(20, 75, 57); fill-opacity: 1; white-space: pre;\"><tspan class=\"line\" dy=\"0em\" x=\"0\" y=\"0\">Arp2/3</tspan><tspan class=\"line\" dy=\"1.3em\" x=\"0\" y=\"0\">complex-mediated</tspan><tspan class=\"line\" dy=\"2.6em\" x=\"0\" y=\"0\">actin nucleation.</tspan></text></g></g><g class=\"column-cell\" transform=\"translate(0,92.203125)\"><rect class=\"cell-rect\" width=\"138\" stroke-width=\"1\" style=\"stroke: rgb(128, 188, 0); stroke-opacity: 1; fill: rgb(255, 255, 255); fill-opacity: 1;\" height=\"64.203125\"/><g class=\"cell-text-holder\" transform=\"translate(8,21)\" style=\"shape-rendering: geometricprecision;\"><text class=\"cell-text\" dy=\"0\" x=\"0\" y=\"0\" style=\"cursor: auto; font-family: 'Open Sans', verdana, arial, sans-serif; font-size: 12px; fill: rgb(20, 75, 57); fill-opacity: 1; white-space: pre;\"><tspan class=\"line\" dy=\"0em\" x=\"0\" y=\"0\">phragmoplast</tspan><tspan class=\"line\" dy=\"1.3em\" x=\"0\" y=\"0\">microtubule</tspan><tspan class=\"line\" dy=\"2.6em\" x=\"0\" y=\"0\">organization.</tspan></text></g></g><g class=\"column-cell\" transform=\"translate(0,156.40625)\"><rect class=\"cell-rect\" width=\"138\" stroke-width=\"1\" style=\"stroke: rgb(128, 188, 0); stroke-opacity: 1; fill: rgb(255, 255, 255); fill-opacity: 1;\" height=\"48.609375\"/><g class=\"cell-text-holder\" transform=\"translate(8,8)\" style=\"shape-rendering: geometricprecision;\"><text class=\"cell-text\" dy=\"0\" x=\"0\" y=\"0\" style=\"cursor: auto; font-family: 'Open Sans', verdana, arial, sans-serif; font-size: 12px; fill: rgb(20, 75, 57); fill-opacity: 1; white-space: pre;\"><tspan class=\"line\" dy=\"0em\" x=\"0\" y=\"0\"></tspan><tspan class=\"line\" dy=\"1.3em\" x=\"0\" y=\"0\">cytoskeleton-dependent</tspan><tspan class=\"line\" dy=\"2.6em\" x=\"0\" y=\"0\">cytokinesis.</tspan></text></g></g><g class=\"column-cell\" transform=\"translate(0,205.015625)\"><rect class=\"cell-rect\" width=\"138\" stroke-width=\"1\" style=\"stroke: rgb(128, 188, 0); stroke-opacity: 1; fill: rgb(255, 255, 255); fill-opacity: 1;\" height=\"79.8125\"/><g class=\"cell-text-holder\" transform=\"translate(8,21)\" style=\"shape-rendering: geometricprecision;\"><text class=\"cell-text\" dy=\"0\" x=\"0\" y=\"0\" style=\"cursor: auto; font-family: 'Open Sans', verdana, arial, sans-serif; font-size: 12px; fill: rgb(20, 75, 57); fill-opacity: 1; white-space: pre;\"><tspan class=\"line\" dy=\"0em\" x=\"0\" y=\"0\">regulation of</tspan><tspan class=\"line\" dy=\"1.3em\" x=\"0\" y=\"0\">microtubule</tspan><tspan class=\"line\" dy=\"2.6em\" x=\"0\" y=\"0\">polymerization or</tspan><tspan class=\"line\" dy=\"3.9000000000000004em\" x=\"0\" y=\"0\">depolymerization.</tspan></text></g></g><g class=\"column-cell\" transform=\"translate(0,284.828125)\"><rect class=\"cell-rect\" width=\"138\" stroke-width=\"1\" style=\"stroke: rgb(128, 188, 0); stroke-opacity: 1; fill: rgb(255, 255, 255); fill-opacity: 1;\" height=\"48.609375\"/><g class=\"cell-text-holder\" transform=\"translate(8,21)\" style=\"shape-rendering: geometricprecision;\"><text class=\"cell-text\" dy=\"0\" x=\"0\" y=\"0\" style=\"cursor: auto; font-family: 'Open Sans', verdana, arial, sans-serif; font-size: 12px; fill: rgb(20, 75, 57); fill-opacity: 1; white-space: pre;\"><tspan class=\"line\" dy=\"0em\" x=\"0\" y=\"0\">preprophase band</tspan><tspan class=\"line\" dy=\"1.3em\" x=\"0\" y=\"0\">assembly.</tspan></text></g></g><g class=\"column-cell\" transform=\"translate(0,333.4375)\"><rect class=\"cell-rect\" width=\"138\" stroke-width=\"1\" style=\"stroke: rgb(128, 188, 0); stroke-opacity: 1; fill: rgb(255, 255, 255); fill-opacity: 1;\" height=\"64.203125\"/><g class=\"cell-text-holder\" transform=\"translate(8,21)\" style=\"shape-rendering: geometricprecision;\"><text class=\"cell-text\" dy=\"0\" x=\"0\" y=\"0\" style=\"cursor: auto; font-family: 'Open Sans', verdana, arial, sans-serif; font-size: 12px; fill: rgb(20, 75, 57); fill-opacity: 1; white-space: pre;\"><tspan class=\"line\" dy=\"0em\" x=\"0\" y=\"0\">meiotic</tspan><tspan class=\"line\" dy=\"1.3em\" x=\"0\" y=\"0\">recombination</tspan><tspan class=\"line\" dy=\"2.6em\" x=\"0\" y=\"0\">checkpoint signaling.</tspan></text></g></g><g class=\"column-cell\" transform=\"translate(0,397.640625)\"><rect class=\"cell-rect\" width=\"138\" stroke-width=\"1\" style=\"stroke: rgb(128, 188, 0); stroke-opacity: 1; fill: rgb(255, 255, 255); fill-opacity: 1;\" height=\"20\"/><g class=\"cell-text-holder\" transform=\"translate(8,8)\" text-anchor=\"start\" style=\"shape-rendering: geometricprecision;\"><text class=\"cell-text\" dy=\"0.75em\" x=\"0\" y=\"0\" style=\"cursor: auto; font-family: 'Open Sans', verdana, arial, sans-serif; font-size: 12px; fill: rgb(20, 75, 57); fill-opacity: 1; white-space: pre;\">pollen development.</text></g></g><g class=\"column-cell\" transform=\"translate(0,417.640625)\"><rect class=\"cell-rect\" width=\"138\" stroke-width=\"1\" style=\"stroke: rgb(128, 188, 0); stroke-opacity: 1; fill: rgb(255, 255, 255); fill-opacity: 1;\" height=\"20\"/><g class=\"cell-text-holder\" transform=\"translate(8,8)\" text-anchor=\"start\" style=\"shape-rendering: geometricprecision;\"><text class=\"cell-text\" dy=\"0.75em\" style=\"cursor: auto; font-family: 'Open Sans', verdana, arial, sans-serif; font-size: 12px; fill: rgb(20, 75, 57); fill-opacity: 1;\">megagametogenesis.</text></g></g><g class=\"column-cell\" transform=\"translate(0,437.640625)\"><rect class=\"cell-rect\" width=\"138\" stroke-width=\"1\" style=\"stroke: rgb(128, 188, 0); stroke-opacity: 1; fill: rgb(255, 255, 255); fill-opacity: 1;\" height=\"48.609375\"/><g class=\"cell-text-holder\" transform=\"translate(8,21)\" style=\"shape-rendering: geometricprecision;\"><text class=\"cell-text\" dy=\"0\" x=\"0\" y=\"0\" style=\"cursor: auto; font-family: 'Open Sans', verdana, arial, sans-serif; font-size: 12px; fill: rgb(20, 75, 57); fill-opacity: 1; white-space: pre;\"><tspan class=\"line\" dy=\"0em\" x=\"0\" y=\"0\">generative cell</tspan><tspan class=\"line\" dy=\"1.3em\" x=\"0\" y=\"0\">differentiation.</tspan></text></g></g><g class=\"column-cell\" transform=\"translate(0,486.25)\"><rect class=\"cell-rect\" width=\"138\" stroke-width=\"1\" style=\"stroke: rgb(128, 188, 0); stroke-opacity: 1; fill: rgb(255, 255, 255); fill-opacity: 1;\" height=\"64.203125\"/><g class=\"cell-text-holder\" transform=\"translate(8,21)\" style=\"shape-rendering: geometricprecision;\"><text class=\"cell-text\" dy=\"0\" x=\"0\" y=\"0\" style=\"cursor: auto; font-family: 'Open Sans', verdana, arial, sans-serif; font-size: 12px; fill: rgb(20, 75, 57); fill-opacity: 1; white-space: pre;\"><tspan class=\"line\" dy=\"0em\" x=\"0\" y=\"0\">meiotic</tspan><tspan class=\"line\" dy=\"1.3em\" x=\"0\" y=\"0\">recombination</tspan><tspan class=\"line\" dy=\"2.6em\" x=\"0\" y=\"0\">checkpoint signaling.</tspan></text></g></g><g class=\"column-cell\" transform=\"translate(0,550.453125)\"><rect class=\"cell-rect\" width=\"138\" stroke-width=\"1\" style=\"stroke: rgb(128, 188, 0); stroke-opacity: 1; fill: rgb(255, 255, 255); fill-opacity: 1;\" height=\"20\"/><g class=\"cell-text-holder\" transform=\"translate(8,8)\" text-anchor=\"start\" style=\"shape-rendering: geometricprecision;\"><text class=\"cell-text\" dy=\"0.75em\" style=\"cursor: auto; font-family: 'Open Sans', verdana, arial, sans-serif; font-size: 12px; fill: rgb(20, 75, 57); fill-opacity: 1;\">megagametogenesis.</text></g></g><g class=\"column-cell\" transform=\"translate(0,570.453125)\"><rect class=\"cell-rect\" width=\"138\" stroke-width=\"1\" style=\"stroke: rgb(128, 188, 0); stroke-opacity: 1; fill: rgb(255, 255, 255); fill-opacity: 1;\" height=\"20\"/><g class=\"cell-text-holder\" transform=\"translate(8,8)\" text-anchor=\"start\" style=\"shape-rendering: geometricprecision;\"><text class=\"cell-text\" dy=\"0.75em\" style=\"cursor: auto; font-family: 'Open Sans', verdana, arial, sans-serif; font-size: 12px; fill: rgb(20, 75, 57); fill-opacity: 1;\">megasporogenesis.</text></g></g><g class=\"column-cell\" transform=\"translate(0,590.453125)\"><rect class=\"cell-rect\" width=\"138\" stroke-width=\"1\" style=\"stroke: rgb(128, 188, 0); stroke-opacity: 1; fill: rgb(255, 255, 255); fill-opacity: 1;\" height=\"48.609375\"/><g class=\"cell-text-holder\" transform=\"translate(8,21)\" style=\"shape-rendering: geometricprecision;\"><text class=\"cell-text\" dy=\"0\" x=\"0\" y=\"0\" style=\"cursor: auto; font-family: 'Open Sans', verdana, arial, sans-serif; font-size: 12px; fill: rgb(20, 75, 57); fill-opacity: 1; white-space: pre;\"><tspan class=\"line\" dy=\"0em\" x=\"0\" y=\"0\">CAAX-box protein</tspan><tspan class=\"line\" dy=\"1.3em\" x=\"0\" y=\"0\">processing.</tspan></text></g></g><g class=\"column-cell\" transform=\"translate(0,639.0625)\"><rect class=\"cell-rect\" width=\"138\" stroke-width=\"1\" style=\"stroke: rgb(128, 188, 0); stroke-opacity: 1; fill: rgb(255, 255, 255); fill-opacity: 1;\" height=\"48.609375\"/><g class=\"cell-text-holder\" transform=\"translate(8,21)\" style=\"shape-rendering: geometricprecision;\"><text class=\"cell-text\" dy=\"0\" x=\"0\" y=\"0\" style=\"cursor: auto; font-family: 'Open Sans', verdana, arial, sans-serif; font-size: 12px; fill: rgb(20, 75, 57); fill-opacity: 1; white-space: pre;\"><tspan class=\"line\" dy=\"0em\" x=\"0\" y=\"0\">CAAX-box protein</tspan><tspan class=\"line\" dy=\"1.3em\" x=\"0\" y=\"0\">processing.</tspan></text></g></g><g class=\"column-cell\" transform=\"translate(0,687.671875)\"><rect class=\"cell-rect\" width=\"138\" stroke-width=\"1\" style=\"stroke: rgb(128, 188, 0); stroke-opacity: 1; fill: rgb(255, 255, 255); fill-opacity: 1;\" height=\"48.609375\"/><g class=\"cell-text-holder\" transform=\"translate(8,21)\" style=\"shape-rendering: geometricprecision;\"><text class=\"cell-text\" dy=\"0\" x=\"0\" y=\"0\" style=\"cursor: auto; font-family: 'Open Sans', verdana, arial, sans-serif; font-size: 12px; fill: rgb(20, 75, 57); fill-opacity: 1; white-space: pre;\"><tspan class=\"line\" dy=\"0em\" x=\"0\" y=\"0\">CAAX-box protein</tspan><tspan class=\"line\" dy=\"1.3em\" x=\"0\" y=\"0\">processing.</tspan></text></g></g><g class=\"column-cell\" transform=\"translate(0,736.28125)\"><rect class=\"cell-rect\" width=\"138\" stroke-width=\"1\" style=\"stroke: rgb(128, 188, 0); stroke-opacity: 1; fill: rgb(255, 255, 255); fill-opacity: 1;\" height=\"48.609375\"/><g class=\"cell-text-holder\" transform=\"translate(8,21)\" style=\"shape-rendering: geometricprecision;\"><text class=\"cell-text\" dy=\"0\" x=\"0\" y=\"0\" style=\"cursor: auto; font-family: 'Open Sans', verdana, arial, sans-serif; font-size: 12px; fill: rgb(20, 75, 57); fill-opacity: 1; white-space: pre;\"><tspan class=\"line\" dy=\"0em\" x=\"0\" y=\"0\">CAAX-box protein</tspan><tspan class=\"line\" dy=\"1.3em\" x=\"0\" y=\"0\">processing.</tspan></text></g></g><g class=\"column-cell\" transform=\"translate(0,784.890625)\"><rect class=\"cell-rect\" width=\"138\" stroke-width=\"1\" style=\"stroke: rgb(128, 188, 0); stroke-opacity: 1; fill: rgb(255, 255, 255); fill-opacity: 1;\" height=\"48.609375\"/><g class=\"cell-text-holder\" transform=\"translate(8,21)\" style=\"shape-rendering: geometricprecision;\"><text class=\"cell-text\" dy=\"0\" x=\"0\" y=\"0\" style=\"cursor: auto; font-family: 'Open Sans', verdana, arial, sans-serif; font-size: 12px; fill: rgb(20, 75, 57); fill-opacity: 1; white-space: pre;\"><tspan class=\"line\" dy=\"0em\" x=\"0\" y=\"0\">CAAX-box protein</tspan><tspan class=\"line\" dy=\"1.3em\" x=\"0\" y=\"0\">processing.</tspan></text></g></g><g class=\"column-cell\" transform=\"translate(0,833.5)\"><rect class=\"cell-rect\" width=\"138\" stroke-width=\"1\" style=\"stroke: rgb(128, 188, 0); stroke-opacity: 1; fill: rgb(255, 255, 255); fill-opacity: 1;\" height=\"64.203125\"/><g class=\"cell-text-holder\" transform=\"translate(8,21)\" style=\"shape-rendering: geometricprecision;\"><text class=\"cell-text\" dy=\"0\" x=\"0\" y=\"0\" style=\"cursor: auto; font-family: 'Open Sans', verdana, arial, sans-serif; font-size: 12px; fill: rgb(20, 75, 57); fill-opacity: 1; white-space: pre;\"><tspan class=\"line\" dy=\"0em\" x=\"0\" y=\"0\">homologous</tspan><tspan class=\"line\" dy=\"1.3em\" x=\"0\" y=\"0\">chromosome pairing</tspan><tspan class=\"line\" dy=\"2.6em\" x=\"0\" y=\"0\">at meiosis.</tspan></text></g></g><g class=\"column-cell\" transform=\"translate(0,897.703125)\"><rect class=\"cell-rect\" width=\"138\" stroke-width=\"1\" style=\"stroke: rgb(128, 188, 0); stroke-opacity: 1; fill: rgb(255, 255, 255); fill-opacity: 1;\" height=\"20\"/><g class=\"cell-text-holder\" transform=\"translate(8,8)\" text-anchor=\"start\" style=\"shape-rendering: geometricprecision;\"><text class=\"cell-text\" dy=\"0.75em\" x=\"0\" y=\"0\" style=\"cursor: auto; font-family: 'Open Sans', verdana, arial, sans-serif; font-size: 12px; fill: rgb(20, 75, 57); fill-opacity: 1; white-space: pre;\">chiasma assembly.</text></g></g><g class=\"column-cell\" transform=\"translate(0,917.703125)\"><rect class=\"cell-rect\" width=\"138\" stroke-width=\"1\" style=\"stroke: rgb(128, 188, 0); stroke-opacity: 1; fill: rgb(255, 255, 255); fill-opacity: 1;\" height=\"64.203125\"/><g class=\"cell-text-holder\" transform=\"translate(8,21)\" style=\"shape-rendering: geometricprecision;\"><text class=\"cell-text\" dy=\"0\" x=\"0\" y=\"0\" style=\"cursor: auto; font-family: 'Open Sans', verdana, arial, sans-serif; font-size: 12px; fill: rgb(20, 75, 57); fill-opacity: 1; white-space: pre;\"><tspan class=\"line\" dy=\"0em\" x=\"0\" y=\"0\">Arp2/3</tspan><tspan class=\"line\" dy=\"1.3em\" x=\"0\" y=\"0\">complex-mediated</tspan><tspan class=\"line\" dy=\"2.6em\" x=\"0\" y=\"0\">actin nucleation.</tspan></text></g></g></g></g><g class=\"column-block\" id=\"cells2\" transform=\"\" style=\"cursor: default;\"><g class=\"column-cells\"/></g><g class=\"column-block\" id=\"header\" style=\"cursor: ew-resize;\"><g class=\"column-cells\"><g class=\"column-cell\" transform=\"\"><rect class=\"cell-rect\" width=\"138\" stroke-width=\"1\" height=\"28\" style=\"stroke: rgb(255, 212, 0); stroke-opacity: 1; fill: rgb(20, 75, 57); fill-opacity: 1;\"/><g class=\"cell-text-holder\" transform=\"translate(8,8)\" text-anchor=\"start\" style=\"shape-rendering: geometricprecision;\"><text class=\"cell-text\" dy=\"0.75em\" style=\"cursor: auto; font-family: 'Open Sans', verdana, arial, sans-serif; font-size: 12px; fill: rgb(255, 255, 255); fill-opacity: 1;\">Name</text></g></g></g></g><g class=\"column-boundary\"/><clipPath class=\"column-boundary-clippath\" id=\"clip1cc0a9_columnBoundaryClippath_e8acc6true_2\"><rect class=\"column-boundary-rect\" fill=\"none\" width=\"140\" height=\"507\" x=\"-1\" y=\"-1\"/></clipPath></g><g class=\"y-column\" transform=\"translate(414,0)\" clip-path=\"url(#clip1cc0a9_columnBoundaryClippath_e8acc6true_3)\"><g class=\"column-block\" id=\"cells1\" transform=\"\" style=\"cursor: default;\"><g class=\"column-cells\"><g class=\"column-cell\" transform=\"translate(0,28)\"><rect class=\"cell-rect\" width=\"138\" stroke-width=\"1\" style=\"stroke: rgb(128, 188, 0); stroke-opacity: 1; fill: rgb(255, 255, 255); fill-opacity: 1;\" height=\"64.203125\"/><g class=\"cell-text-holder\" transform=\"translate(8,8)\" text-anchor=\"start\" style=\"shape-rendering: geometricprecision;\"><text class=\"cell-text\" dy=\"0.75em\" style=\"cursor: auto; font-family: 'Open Sans', verdana, arial, sans-serif; font-size: 12px; fill: rgb(20, 75, 57); fill-opacity: 1;\">0.9411199272043652</text></g></g><g class=\"column-cell\" transform=\"translate(0,92.203125)\"><rect class=\"cell-rect\" width=\"138\" stroke-width=\"1\" style=\"stroke: rgb(128, 188, 0); stroke-opacity: 1; fill: rgb(255, 255, 255); fill-opacity: 1;\" height=\"64.203125\"/><g class=\"cell-text-holder\" transform=\"translate(8,8)\" text-anchor=\"start\" style=\"shape-rendering: geometricprecision;\"><text class=\"cell-text\" dy=\"0.75em\" style=\"cursor: auto; font-family: 'Open Sans', verdana, arial, sans-serif; font-size: 12px; fill: rgb(20, 75, 57); fill-opacity: 1;\">0.9373064198772731</text></g></g><g class=\"column-cell\" transform=\"translate(0,156.40625)\"><rect class=\"cell-rect\" width=\"138\" stroke-width=\"1\" style=\"stroke: rgb(128, 188, 0); stroke-opacity: 1; fill: rgb(255, 255, 255); fill-opacity: 1;\" height=\"48.609375\"/><g class=\"cell-text-holder\" transform=\"translate(8,8)\" text-anchor=\"start\" style=\"shape-rendering: geometricprecision;\"><text class=\"cell-text\" dy=\"0.75em\" style=\"cursor: auto; font-family: 'Open Sans', verdana, arial, sans-serif; font-size: 12px; fill: rgb(20, 75, 57); fill-opacity: 1;\">0.9508907067909733</text></g></g><g class=\"column-cell\" transform=\"translate(0,205.015625)\"><rect class=\"cell-rect\" width=\"138\" stroke-width=\"1\" style=\"stroke: rgb(128, 188, 0); stroke-opacity: 1; fill: rgb(255, 255, 255); fill-opacity: 1;\" height=\"79.8125\"/><g class=\"cell-text-holder\" transform=\"translate(8,8)\" text-anchor=\"start\" style=\"shape-rendering: geometricprecision;\"><text class=\"cell-text\" dy=\"0.75em\" style=\"cursor: auto; font-family: 'Open Sans', verdana, arial, sans-serif; font-size: 12px; fill: rgb(20, 75, 57); fill-opacity: 1;\">0.940308901911613</text></g></g><g class=\"column-cell\" transform=\"translate(0,284.828125)\"><rect class=\"cell-rect\" width=\"138\" stroke-width=\"1\" style=\"stroke: rgb(128, 188, 0); stroke-opacity: 1; fill: rgb(255, 255, 255); fill-opacity: 1;\" height=\"48.609375\"/><g class=\"cell-text-holder\" transform=\"translate(8,8)\" text-anchor=\"start\" style=\"shape-rendering: geometricprecision;\"><text class=\"cell-text\" dy=\"0.75em\" style=\"cursor: auto; font-family: 'Open Sans', verdana, arial, sans-serif; font-size: 12px; fill: rgb(20, 75, 57); fill-opacity: 1;\">0.9399703248326705</text></g></g><g class=\"column-cell\" transform=\"translate(0,333.4375)\"><rect class=\"cell-rect\" width=\"138\" stroke-width=\"1\" style=\"stroke: rgb(128, 188, 0); stroke-opacity: 1; fill: rgb(255, 255, 255); fill-opacity: 1;\" height=\"64.203125\"/><g class=\"cell-text-holder\" transform=\"translate(8,8)\" text-anchor=\"start\" style=\"shape-rendering: geometricprecision;\"><text class=\"cell-text\" dy=\"0.75em\" style=\"cursor: auto; font-family: 'Open Sans', verdana, arial, sans-serif; font-size: 12px; fill: rgb(20, 75, 57); fill-opacity: 1;\">0.9412009552679074</text></g></g><g class=\"column-cell\" transform=\"translate(0,397.640625)\"><rect class=\"cell-rect\" width=\"138\" stroke-width=\"1\" style=\"stroke: rgb(128, 188, 0); stroke-opacity: 1; fill: rgb(255, 255, 255); fill-opacity: 1;\" height=\"20\"/><g class=\"cell-text-holder\" transform=\"translate(8,8)\" text-anchor=\"start\" style=\"shape-rendering: geometricprecision;\"><text class=\"cell-text\" dy=\"0.75em\" style=\"cursor: auto; font-family: 'Open Sans', verdana, arial, sans-serif; font-size: 12px; fill: rgb(20, 75, 57); fill-opacity: 1;\">0.9625490514280257</text></g></g><g class=\"column-cell\" transform=\"translate(0,417.640625)\"><rect class=\"cell-rect\" width=\"138\" stroke-width=\"1\" style=\"stroke: rgb(128, 188, 0); stroke-opacity: 1; fill: rgb(255, 255, 255); fill-opacity: 1;\" height=\"20\"/><g class=\"cell-text-holder\" transform=\"translate(8,8)\" text-anchor=\"start\" style=\"shape-rendering: geometricprecision;\"><text class=\"cell-text\" dy=\"0.75em\" style=\"cursor: auto; font-family: 'Open Sans', verdana, arial, sans-serif; font-size: 12px; fill: rgb(20, 75, 57); fill-opacity: 1;\">0.9451206488830979</text></g></g><g class=\"column-cell\" transform=\"translate(0,437.640625)\"><rect class=\"cell-rect\" width=\"138\" stroke-width=\"1\" style=\"stroke: rgb(128, 188, 0); stroke-opacity: 1; fill: rgb(255, 255, 255); fill-opacity: 1;\" height=\"48.609375\"/><g class=\"cell-text-holder\" transform=\"translate(8,8)\" text-anchor=\"start\" style=\"shape-rendering: geometricprecision;\"><text class=\"cell-text\" dy=\"0.75em\" style=\"cursor: auto; font-family: 'Open Sans', verdana, arial, sans-serif; font-size: 12px; fill: rgb(20, 75, 57); fill-opacity: 1;\">0.9580169409626705</text></g></g><g class=\"column-cell\" transform=\"translate(0,486.25)\"><rect class=\"cell-rect\" width=\"138\" stroke-width=\"1\" style=\"stroke: rgb(128, 188, 0); stroke-opacity: 1; fill: rgb(255, 255, 255); fill-opacity: 1;\" height=\"64.203125\"/><g class=\"cell-text-holder\" transform=\"translate(8,8)\" text-anchor=\"start\" style=\"shape-rendering: geometricprecision;\"><text class=\"cell-text\" dy=\"0.75em\" style=\"cursor: auto; font-family: 'Open Sans', verdana, arial, sans-serif; font-size: 12px; fill: rgb(20, 75, 57); fill-opacity: 1;\">0.9487134268453996</text></g></g><g class=\"column-cell\" transform=\"translate(0,550.453125)\"><rect class=\"cell-rect\" width=\"138\" stroke-width=\"1\" style=\"stroke: rgb(128, 188, 0); stroke-opacity: 1; fill: rgb(255, 255, 255); fill-opacity: 1;\" height=\"20\"/><g class=\"cell-text-holder\" transform=\"translate(8,8)\" text-anchor=\"start\" style=\"shape-rendering: geometricprecision;\"><text class=\"cell-text\" dy=\"0.75em\" style=\"cursor: auto; font-family: 'Open Sans', verdana, arial, sans-serif; font-size: 12px; fill: rgb(20, 75, 57); fill-opacity: 1;\">0.9362861302914696</text></g></g><g class=\"column-cell\" transform=\"translate(0,570.453125)\"><rect class=\"cell-rect\" width=\"138\" stroke-width=\"1\" style=\"stroke: rgb(128, 188, 0); stroke-opacity: 1; fill: rgb(255, 255, 255); fill-opacity: 1;\" height=\"20\"/><g class=\"cell-text-holder\" transform=\"translate(8,8)\" text-anchor=\"start\" style=\"shape-rendering: geometricprecision;\"><text class=\"cell-text\" dy=\"0.75em\" style=\"cursor: auto; font-family: 'Open Sans', verdana, arial, sans-serif; font-size: 12px; fill: rgb(20, 75, 57); fill-opacity: 1;\">0.9372237359082636</text></g></g><g class=\"column-cell\" transform=\"translate(0,590.453125)\"><rect class=\"cell-rect\" width=\"138\" stroke-width=\"1\" style=\"stroke: rgb(128, 188, 0); stroke-opacity: 1; fill: rgb(255, 255, 255); fill-opacity: 1;\" height=\"48.609375\"/><g class=\"cell-text-holder\" transform=\"translate(8,8)\" text-anchor=\"start\" style=\"shape-rendering: geometricprecision;\"><text class=\"cell-text\" dy=\"0.75em\" style=\"cursor: auto; font-family: 'Open Sans', verdana, arial, sans-serif; font-size: 12px; fill: rgb(20, 75, 57); fill-opacity: 1;\">0.9369929447236022</text></g></g><g class=\"column-cell\" transform=\"translate(0,639.0625)\"><rect class=\"cell-rect\" width=\"138\" stroke-width=\"1\" style=\"stroke: rgb(128, 188, 0); stroke-opacity: 1; fill: rgb(255, 255, 255); fill-opacity: 1;\" height=\"48.609375\"/><g class=\"cell-text-holder\" transform=\"translate(8,8)\" text-anchor=\"start\" style=\"shape-rendering: geometricprecision;\"><text class=\"cell-text\" dy=\"0.75em\" style=\"cursor: auto; font-family: 'Open Sans', verdana, arial, sans-serif; font-size: 12px; fill: rgb(20, 75, 57); fill-opacity: 1;\">0.9369929447236022</text></g></g><g class=\"column-cell\" transform=\"translate(0,687.671875)\"><rect class=\"cell-rect\" width=\"138\" stroke-width=\"1\" style=\"stroke: rgb(128, 188, 0); stroke-opacity: 1; fill: rgb(255, 255, 255); fill-opacity: 1;\" height=\"48.609375\"/><g class=\"cell-text-holder\" transform=\"translate(8,8)\" text-anchor=\"start\" style=\"shape-rendering: geometricprecision;\"><text class=\"cell-text\" dy=\"0.75em\" style=\"cursor: auto; font-family: 'Open Sans', verdana, arial, sans-serif; font-size: 12px; fill: rgb(20, 75, 57); fill-opacity: 1;\">0.9369929447236022</text></g></g><g class=\"column-cell\" transform=\"translate(0,736.28125)\"><rect class=\"cell-rect\" width=\"138\" stroke-width=\"1\" style=\"stroke: rgb(128, 188, 0); stroke-opacity: 1; fill: rgb(255, 255, 255); fill-opacity: 1;\" height=\"48.609375\"/><g class=\"cell-text-holder\" transform=\"translate(8,8)\" text-anchor=\"start\" style=\"shape-rendering: geometricprecision;\"><text class=\"cell-text\" dy=\"0.75em\" style=\"cursor: auto; font-family: 'Open Sans', verdana, arial, sans-serif; font-size: 12px; fill: rgb(20, 75, 57); fill-opacity: 1;\">0.9366015697289949</text></g></g><g class=\"column-cell\" transform=\"translate(0,784.890625)\"><rect class=\"cell-rect\" width=\"138\" stroke-width=\"1\" style=\"stroke: rgb(128, 188, 0); stroke-opacity: 1; fill: rgb(255, 255, 255); fill-opacity: 1;\" height=\"48.609375\"/><g class=\"cell-text-holder\" transform=\"translate(8,8)\" text-anchor=\"start\" style=\"shape-rendering: geometricprecision;\"><text class=\"cell-text\" dy=\"0.75em\" style=\"cursor: auto; font-family: 'Open Sans', verdana, arial, sans-serif; font-size: 12px; fill: rgb(20, 75, 57); fill-opacity: 1;\">0.9366015697289949</text></g></g><g class=\"column-cell\" transform=\"translate(0,833.5)\"><rect class=\"cell-rect\" width=\"138\" stroke-width=\"1\" style=\"stroke: rgb(128, 188, 0); stroke-opacity: 1; fill: rgb(255, 255, 255); fill-opacity: 1;\" height=\"64.203125\"/><g class=\"cell-text-holder\" transform=\"translate(8,8)\" text-anchor=\"start\" style=\"shape-rendering: geometricprecision;\"><text class=\"cell-text\" dy=\"0.75em\" style=\"cursor: auto; font-family: 'Open Sans', verdana, arial, sans-serif; font-size: 12px; fill: rgb(20, 75, 57); fill-opacity: 1;\">0.9449280514078533</text></g></g><g class=\"column-cell\" transform=\"translate(0,897.703125)\"><rect class=\"cell-rect\" width=\"138\" stroke-width=\"1\" style=\"stroke: rgb(128, 188, 0); stroke-opacity: 1; fill: rgb(255, 255, 255); fill-opacity: 1;\" height=\"20\"/><g class=\"cell-text-holder\" transform=\"translate(8,8)\" text-anchor=\"start\" style=\"shape-rendering: geometricprecision;\"><text class=\"cell-text\" dy=\"0.75em\" style=\"cursor: auto; font-family: 'Open Sans', verdana, arial, sans-serif; font-size: 12px; fill: rgb(20, 75, 57); fill-opacity: 1;\">0.9374037354123962</text></g></g><g class=\"column-cell\" transform=\"translate(0,917.703125)\"><rect class=\"cell-rect\" width=\"138\" stroke-width=\"1\" style=\"stroke: rgb(128, 188, 0); stroke-opacity: 1; fill: rgb(255, 255, 255); fill-opacity: 1;\" height=\"64.203125\"/><g class=\"cell-text-holder\" transform=\"translate(8,8)\" text-anchor=\"start\" style=\"shape-rendering: geometricprecision;\"><text class=\"cell-text\" dy=\"0.75em\" style=\"cursor: auto; font-family: 'Open Sans', verdana, arial, sans-serif; font-size: 12px; fill: rgb(20, 75, 57); fill-opacity: 1;\">0.9392108852434374</text></g></g></g></g><g class=\"column-block\" id=\"cells2\" transform=\"\" style=\"cursor: default;\"><g class=\"column-cells\"/></g><g class=\"column-block\" id=\"header\" style=\"cursor: ew-resize;\"><g class=\"column-cells\"><g class=\"column-cell\" transform=\"\"><rect class=\"cell-rect\" width=\"138\" stroke-width=\"1\" height=\"28\" style=\"stroke: rgb(255, 212, 0); stroke-opacity: 1; fill: rgb(20, 75, 57); fill-opacity: 1;\"/><g class=\"cell-text-holder\" transform=\"translate(8,8)\" text-anchor=\"start\" style=\"shape-rendering: geometricprecision;\"><text class=\"cell-text\" dy=\"0.75em\" style=\"cursor: auto; font-family: 'Open Sans', verdana, arial, sans-serif; font-size: 12px; fill: rgb(255, 255, 255); fill-opacity: 1;\">Score</text></g></g></g></g><g class=\"column-boundary\"/><clipPath class=\"column-boundary-clippath\" id=\"clip1cc0a9_columnBoundaryClippath_e8acc6true_3\"><rect class=\"column-boundary-rect\" fill=\"none\" width=\"140\" height=\"507\" x=\"-1\" y=\"-1\"/></clipPath></g><g class=\"y-column\" transform=\"translate(552,0)\" clip-path=\"url(#clip1cc0a9_columnBoundaryClippath_e8acc6true_4)\"><g class=\"column-block\" id=\"cells1\" transform=\"\" style=\"cursor: default;\"><g class=\"column-cells\"><g class=\"column-cell\" transform=\"translate(0,28)\"><rect class=\"cell-rect\" width=\"138\" stroke-width=\"1\" style=\"stroke: rgb(128, 188, 0); stroke-opacity: 1; fill: rgb(255, 255, 255); fill-opacity: 1;\" height=\"64.203125\"/><g class=\"cell-text-holder\" transform=\"translate(8,8)\" text-anchor=\"start\" style=\"shape-rendering: geometricprecision;\"><text class=\"cell-text\" dy=\"0.75em\" style=\"cursor: auto; font-family: 'Open Sans', verdana, arial, sans-serif; font-size: 12px; fill: rgb(20, 75, 57); fill-opacity: 1;\">6</text></g></g><g class=\"column-cell\" transform=\"translate(0,92.203125)\"><rect class=\"cell-rect\" width=\"138\" stroke-width=\"1\" style=\"stroke: rgb(128, 188, 0); stroke-opacity: 1; fill: rgb(255, 255, 255); fill-opacity: 1;\" height=\"64.203125\"/><g class=\"cell-text-holder\" transform=\"translate(8,8)\" text-anchor=\"start\" style=\"shape-rendering: geometricprecision;\"><text class=\"cell-text\" dy=\"0.75em\" style=\"cursor: auto; font-family: 'Open Sans', verdana, arial, sans-serif; font-size: 12px; fill: rgb(20, 75, 57); fill-opacity: 1;\">4</text></g></g><g class=\"column-cell\" transform=\"translate(0,156.40625)\"><rect class=\"cell-rect\" width=\"138\" stroke-width=\"1\" style=\"stroke: rgb(128, 188, 0); stroke-opacity: 1; fill: rgb(255, 255, 255); fill-opacity: 1;\" height=\"48.609375\"/><g class=\"cell-text-holder\" transform=\"translate(8,8)\" text-anchor=\"start\" style=\"shape-rendering: geometricprecision;\"><text class=\"cell-text\" dy=\"0.75em\" style=\"cursor: auto; font-family: 'Open Sans', verdana, arial, sans-serif; font-size: 12px; fill: rgb(20, 75, 57); fill-opacity: 1;\">4</text></g></g><g class=\"column-cell\" transform=\"translate(0,205.015625)\"><rect class=\"cell-rect\" width=\"138\" stroke-width=\"1\" style=\"stroke: rgb(128, 188, 0); stroke-opacity: 1; fill: rgb(255, 255, 255); fill-opacity: 1;\" height=\"79.8125\"/><g class=\"cell-text-holder\" transform=\"translate(8,8)\" text-anchor=\"start\" style=\"shape-rendering: geometricprecision;\"><text class=\"cell-text\" dy=\"0.75em\" style=\"cursor: auto; font-family: 'Open Sans', verdana, arial, sans-serif; font-size: 12px; fill: rgb(20, 75, 57); fill-opacity: 1;\">5</text></g></g><g class=\"column-cell\" transform=\"translate(0,284.828125)\"><rect class=\"cell-rect\" width=\"138\" stroke-width=\"1\" style=\"stroke: rgb(128, 188, 0); stroke-opacity: 1; fill: rgb(255, 255, 255); fill-opacity: 1;\" height=\"48.609375\"/><g class=\"cell-text-holder\" transform=\"translate(8,8)\" text-anchor=\"start\" style=\"shape-rendering: geometricprecision;\"><text class=\"cell-text\" dy=\"0.75em\" style=\"cursor: auto; font-family: 'Open Sans', verdana, arial, sans-serif; font-size: 12px; fill: rgb(20, 75, 57); fill-opacity: 1;\">3</text></g></g><g class=\"column-cell\" transform=\"translate(0,333.4375)\"><rect class=\"cell-rect\" width=\"138\" stroke-width=\"1\" style=\"stroke: rgb(128, 188, 0); stroke-opacity: 1; fill: rgb(255, 255, 255); fill-opacity: 1;\" height=\"64.203125\"/><g class=\"cell-text-holder\" transform=\"translate(8,8)\" text-anchor=\"start\" style=\"shape-rendering: geometricprecision;\"><text class=\"cell-text\" dy=\"0.75em\" style=\"cursor: auto; font-family: 'Open Sans', verdana, arial, sans-serif; font-size: 12px; fill: rgb(20, 75, 57); fill-opacity: 1;\">4</text></g></g><g class=\"column-cell\" transform=\"translate(0,397.640625)\"><rect class=\"cell-rect\" width=\"138\" stroke-width=\"1\" style=\"stroke: rgb(128, 188, 0); stroke-opacity: 1; fill: rgb(255, 255, 255); fill-opacity: 1;\" height=\"20\"/><g class=\"cell-text-holder\" transform=\"translate(8,8)\" text-anchor=\"start\" style=\"shape-rendering: geometricprecision;\"><text class=\"cell-text\" dy=\"0.75em\" style=\"cursor: auto; font-family: 'Open Sans', verdana, arial, sans-serif; font-size: 12px; fill: rgb(20, 75, 57); fill-opacity: 1;\">4</text></g></g><g class=\"column-cell\" transform=\"translate(0,417.640625)\"><rect class=\"cell-rect\" width=\"138\" stroke-width=\"1\" style=\"stroke: rgb(128, 188, 0); stroke-opacity: 1; fill: rgb(255, 255, 255); fill-opacity: 1;\" height=\"20\"/><g class=\"cell-text-holder\" transform=\"translate(8,8)\" text-anchor=\"start\" style=\"shape-rendering: geometricprecision;\"><text class=\"cell-text\" dy=\"0.75em\" style=\"cursor: auto; font-family: 'Open Sans', verdana, arial, sans-serif; font-size: 12px; fill: rgb(20, 75, 57); fill-opacity: 1;\">2</text></g></g><g class=\"column-cell\" transform=\"translate(0,437.640625)\"><rect class=\"cell-rect\" width=\"138\" stroke-width=\"1\" style=\"stroke: rgb(128, 188, 0); stroke-opacity: 1; fill: rgb(255, 255, 255); fill-opacity: 1;\" height=\"48.609375\"/><g class=\"cell-text-holder\" transform=\"translate(8,8)\" text-anchor=\"start\" style=\"shape-rendering: geometricprecision;\"><text class=\"cell-text\" dy=\"0.75em\" style=\"cursor: auto; font-family: 'Open Sans', verdana, arial, sans-serif; font-size: 12px; fill: rgb(20, 75, 57); fill-opacity: 1;\">3</text></g></g><g class=\"column-cell\" transform=\"translate(0,486.25)\"><rect class=\"cell-rect\" width=\"138\" stroke-width=\"1\" style=\"stroke: rgb(128, 188, 0); stroke-opacity: 1; fill: rgb(255, 255, 255); fill-opacity: 1;\" height=\"64.203125\"/><g class=\"cell-text-holder\" transform=\"translate(8,8)\" text-anchor=\"start\" style=\"shape-rendering: geometricprecision;\"><text class=\"cell-text\" dy=\"0.75em\" style=\"cursor: auto; font-family: 'Open Sans', verdana, arial, sans-serif; font-size: 12px; fill: rgb(20, 75, 57); fill-opacity: 1;\">4</text></g></g><g class=\"column-cell\" transform=\"translate(0,550.453125)\"><rect class=\"cell-rect\" width=\"138\" stroke-width=\"1\" style=\"stroke: rgb(128, 188, 0); stroke-opacity: 1; fill: rgb(255, 255, 255); fill-opacity: 1;\" height=\"20\"/><g class=\"cell-text-holder\" transform=\"translate(8,8)\" text-anchor=\"start\" style=\"shape-rendering: geometricprecision;\"><text class=\"cell-text\" dy=\"0.75em\" style=\"cursor: auto; font-family: 'Open Sans', verdana, arial, sans-serif; font-size: 12px; fill: rgb(20, 75, 57); fill-opacity: 1;\">2</text></g></g><g class=\"column-cell\" transform=\"translate(0,570.453125)\"><rect class=\"cell-rect\" width=\"138\" stroke-width=\"1\" style=\"stroke: rgb(128, 188, 0); stroke-opacity: 1; fill: rgb(255, 255, 255); fill-opacity: 1;\" height=\"20\"/><g class=\"cell-text-holder\" transform=\"translate(8,8)\" text-anchor=\"start\" style=\"shape-rendering: geometricprecision;\"><text class=\"cell-text\" dy=\"0.75em\" style=\"cursor: auto; font-family: 'Open Sans', verdana, arial, sans-serif; font-size: 12px; fill: rgb(20, 75, 57); fill-opacity: 1;\">4</text></g></g><g class=\"column-cell\" transform=\"translate(0,590.453125)\"><rect class=\"cell-rect\" width=\"138\" stroke-width=\"1\" style=\"stroke: rgb(128, 188, 0); stroke-opacity: 1; fill: rgb(255, 255, 255); fill-opacity: 1;\" height=\"48.609375\"/><g class=\"cell-text-holder\" transform=\"translate(8,8)\" text-anchor=\"start\" style=\"shape-rendering: geometricprecision;\"><text class=\"cell-text\" dy=\"0.75em\" style=\"cursor: auto; font-family: 'Open Sans', verdana, arial, sans-serif; font-size: 12px; fill: rgb(20, 75, 57); fill-opacity: 1;\">6</text></g></g><g class=\"column-cell\" transform=\"translate(0,639.0625)\"><rect class=\"cell-rect\" width=\"138\" stroke-width=\"1\" style=\"stroke: rgb(128, 188, 0); stroke-opacity: 1; fill: rgb(255, 255, 255); fill-opacity: 1;\" height=\"48.609375\"/><g class=\"cell-text-holder\" transform=\"translate(8,8)\" text-anchor=\"start\" style=\"shape-rendering: geometricprecision;\"><text class=\"cell-text\" dy=\"0.75em\" style=\"cursor: auto; font-family: 'Open Sans', verdana, arial, sans-serif; font-size: 12px; fill: rgb(20, 75, 57); fill-opacity: 1;\">6</text></g></g><g class=\"column-cell\" transform=\"translate(0,687.671875)\"><rect class=\"cell-rect\" width=\"138\" stroke-width=\"1\" style=\"stroke: rgb(128, 188, 0); stroke-opacity: 1; fill: rgb(255, 255, 255); fill-opacity: 1;\" height=\"48.609375\"/><g class=\"cell-text-holder\" transform=\"translate(8,8)\" text-anchor=\"start\" style=\"shape-rendering: geometricprecision;\"><text class=\"cell-text\" dy=\"0.75em\" style=\"cursor: auto; font-family: 'Open Sans', verdana, arial, sans-serif; font-size: 12px; fill: rgb(20, 75, 57); fill-opacity: 1;\">6</text></g></g><g class=\"column-cell\" transform=\"translate(0,736.28125)\"><rect class=\"cell-rect\" width=\"138\" stroke-width=\"1\" style=\"stroke: rgb(128, 188, 0); stroke-opacity: 1; fill: rgb(255, 255, 255); fill-opacity: 1;\" height=\"48.609375\"/><g class=\"cell-text-holder\" transform=\"translate(8,8)\" text-anchor=\"start\" style=\"shape-rendering: geometricprecision;\"><text class=\"cell-text\" dy=\"0.75em\" style=\"cursor: auto; font-family: 'Open Sans', verdana, arial, sans-serif; font-size: 12px; fill: rgb(20, 75, 57); fill-opacity: 1;\">6</text></g></g><g class=\"column-cell\" transform=\"translate(0,784.890625)\"><rect class=\"cell-rect\" width=\"138\" stroke-width=\"1\" style=\"stroke: rgb(128, 188, 0); stroke-opacity: 1; fill: rgb(255, 255, 255); fill-opacity: 1;\" height=\"48.609375\"/><g class=\"cell-text-holder\" transform=\"translate(8,8)\" text-anchor=\"start\" style=\"shape-rendering: geometricprecision;\"><text class=\"cell-text\" dy=\"0.75em\" style=\"cursor: auto; font-family: 'Open Sans', verdana, arial, sans-serif; font-size: 12px; fill: rgb(20, 75, 57); fill-opacity: 1;\">6</text></g></g><g class=\"column-cell\" transform=\"translate(0,833.5)\"><rect class=\"cell-rect\" width=\"138\" stroke-width=\"1\" style=\"stroke: rgb(128, 188, 0); stroke-opacity: 1; fill: rgb(255, 255, 255); fill-opacity: 1;\" height=\"64.203125\"/><g class=\"cell-text-holder\" transform=\"translate(8,8)\" text-anchor=\"start\" style=\"shape-rendering: geometricprecision;\"><text class=\"cell-text\" dy=\"0.75em\" style=\"cursor: auto; font-family: 'Open Sans', verdana, arial, sans-serif; font-size: 12px; fill: rgb(20, 75, 57); fill-opacity: 1;\">4</text></g></g><g class=\"column-cell\" transform=\"translate(0,897.703125)\"><rect class=\"cell-rect\" width=\"138\" stroke-width=\"1\" style=\"stroke: rgb(128, 188, 0); stroke-opacity: 1; fill: rgb(255, 255, 255); fill-opacity: 1;\" height=\"20\"/><g class=\"cell-text-holder\" transform=\"translate(8,8)\" text-anchor=\"start\" style=\"shape-rendering: geometricprecision;\"><text class=\"cell-text\" dy=\"0.75em\" style=\"cursor: auto; font-family: 'Open Sans', verdana, arial, sans-serif; font-size: 12px; fill: rgb(20, 75, 57); fill-opacity: 1;\">3</text></g></g><g class=\"column-cell\" transform=\"translate(0,917.703125)\"><rect class=\"cell-rect\" width=\"138\" stroke-width=\"1\" style=\"stroke: rgb(128, 188, 0); stroke-opacity: 1; fill: rgb(255, 255, 255); fill-opacity: 1;\" height=\"64.203125\"/><g class=\"cell-text-holder\" transform=\"translate(8,8)\" text-anchor=\"start\" style=\"shape-rendering: geometricprecision;\"><text class=\"cell-text\" dy=\"0.75em\" style=\"cursor: auto; font-family: 'Open Sans', verdana, arial, sans-serif; font-size: 12px; fill: rgb(20, 75, 57); fill-opacity: 1;\">6</text></g></g></g></g><g class=\"column-block\" id=\"cells2\" transform=\"\" style=\"cursor: default;\"><g class=\"column-cells\"/></g><g class=\"column-block\" id=\"header\" style=\"cursor: ew-resize;\"><g class=\"column-cells\"><g class=\"column-cell\" transform=\"\"><rect class=\"cell-rect\" width=\"138\" stroke-width=\"1\" height=\"28\" style=\"stroke: rgb(255, 212, 0); stroke-opacity: 1; fill: rgb(20, 75, 57); fill-opacity: 1;\"/><g class=\"cell-text-holder\" transform=\"translate(8,8)\" text-anchor=\"start\" style=\"shape-rendering: geometricprecision;\"><text class=\"cell-text\" dy=\"0.75em\" style=\"cursor: auto; font-family: 'Open Sans', verdana, arial, sans-serif; font-size: 12px; fill: rgb(255, 255, 255); fill-opacity: 1;\">Depth</text></g></g></g></g><g class=\"column-boundary\"/><clipPath class=\"column-boundary-clippath\" id=\"clip1cc0a9_columnBoundaryClippath_e8acc6true_4\"><rect class=\"column-boundary-rect\" fill=\"none\" width=\"140\" height=\"507\" x=\"-1\" y=\"-1\"/></clipPath></g><g class=\"scrollbar-kit\" transform=\"translate(699,28)\" style=\"shape-rendering: geometricprecision;\"><g class=\"scrollbar\"><g class=\"scrollbar-slider\" transform=\"\"/></g></g><clipPath class=\"scroll-area-clip\" id=\"clip1cc0a9_scrollAreaBottomClip_e8acc6true\"><rect class=\"scroll-area-clip-rect\" x=\"-45\" y=\"-5\" fill=\"none\" width=\"780\" height=\"505\"/></clipPath></g></g><defs id=\"topdefs-1cc0a9\"><g class=\"clips\"/></defs><g class=\"layer-above\"><g class=\"imagelayer\"/><g class=\"shapelayer\"/></g><g class=\"infolayer\"><g class=\"g-gtitle\"/></g></svg>"
      ]
     },
     "metadata": {},
     "output_type": "display_data"
    },
    {
     "name": "stdout",
     "output_type": "stream",
     "text": [
      "CPU times: user 1min 52s, sys: 1min 16s, total: 3min 8s\n",
      "Wall time: 37.1 s\n"
     ]
    },
    {
     "data": {
      "text/plain": [
       "<networkx.classes.graph.Graph at 0x2aab39d3eee0>"
      ]
     },
     "execution_count": 56,
     "metadata": {},
     "output_type": "execute_result"
    },
    {
     "data": {
      "image/png": "[encoded data removed]",
      "text/plain": [
       "<Figure size 640x480 with 1 Axes>"
      ]
     },
     "metadata": {},
     "output_type": "display_data"
    }
   ],
   "source": [
    "%%time\n",
    "#####################################################\n",
    "# Input method: Negative example\n",
    "#####################################################\n",
    "Out_def = read_pubmed('Example_data/PMC1802096.xml', \n",
    "                      Print=False, Method = \"Offline\", sim_cutoff=0.935)\n",
    "Plot_data(Out_def)"
   ]
  },
  {
   "cell_type": "code",
   "execution_count": 57,
   "metadata": {},
   "outputs": [
    {
     "name": "stdout",
     "output_type": "stream",
     "text": [
      "-----\n",
      "bs4                 4.11.1\n",
      "matplotlib          3.6.2\n",
      "networkx            2.8.8\n",
      "nltk                3.8\n",
      "nlu                 4.0.0\n",
      "numpy               1.23.5\n",
      "pandas              1.5.2\n",
      "plotly              5.3.1\n",
      "requests            2.28.1\n",
      "seaborn             0.12.2\n",
      "session_info        1.0.0\n",
      "sklearn             1.2.0\n",
      "tqdm                4.49.0\n",
      "-----\n",
      "IPython             8.7.0\n",
      "jupyter_client      7.4.8\n",
      "jupyter_core        5.1.1\n",
      "-----\n",
      "Python 3.8.15 | packaged by conda-forge | (default, Nov 22 2022, 08:49:35) [GCC 10.4.0]\n",
      "Linux-3.10.0-1160.24.1.el7.x86_64-x86_64-with-glibc2.10\n",
      "-----\n",
      "Session information updated at 2023-04-13 17:36\n"
     ]
    }
   ],
   "source": [
    "session_info.show(html=False)"
   ]
  }
 ],
 "metadata": {
  "anaconda-cloud": {},
  "kernelspec": {
   "display_name": "sparknlp",
   "language": "python",
   "name": "sparknlp"
  },
  "language_info": {
   "codemirror_mode": {
    "name": "ipython",
    "version": 3
   },
   "file_extension": ".py",
   "mimetype": "text/x-python",
   "name": "python",
   "nbconvert_exporter": "python",
   "pygments_lexer": "ipython3",
   "version": "3.8.15"
  }
 },
 "nbformat": 4,
 "nbformat_minor": 4
}
