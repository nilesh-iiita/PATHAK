{
 "cells": [
  {
   "cell_type": "markdown",
   "id": "3ae548f9-2ba8-4ae0-bbf1-e374408bdb74",
   "metadata": {},
   "source": [
    "# Preprocessing of Ontology file\n",
    "\n",
    "__GO Biological Process__\n",
    "\n",
    "In bioinformatics, the Gene Ontology (GO) is a standardized vocabulary that is used to describe the functions of genes and their products. \n",
    "\n",
    "<div>\n",
    "<img src=\"https://avatars1.githubusercontent.com/u/7750835?s=200&v=4\" width=\"50\"/>\n",
    "</div>"
   ]
  },
  {
   "cell_type": "markdown",
   "id": "562a2c1f-8366-4398-a25b-648f85b65a95",
   "metadata": {},
   "source": [
    "::::{grid}\n",
    ":gutter: 4\n",
    "\n",
    ":::{grid-item-card} Input File\n",
    "**None**\n",
    ":::\n",
    "\n",
    ":::{grid-item-card} Input Folder\n",
    "**None**\n",
    ":::\n",
    "\n",
    ":::{grid-item-card} Output File\n",
    "**GO_BP_Ontology_corups.tsv**\n",
    ":::\n",
    "\n",
    ":::{grid-item-card} Output Folder\n",
    "**None**\n",
    ":::\n",
    "::::"
   ]
  },
  {
   "cell_type": "markdown",
   "id": "adaeac82-95f5-46eb-95f5-21b5f707e354",
   "metadata": {},
   "source": [
    "<div class=\"alert alert-block alert-info\">\n",
    "    <h2>🐍Load Python libraries</h2>\n",
    "</div>"
   ]
  },
  {
   "cell_type": "code",
   "execution_count": 11,
   "id": "ebb881c3-b9a3-46c9-a781-2a86b84b41fe",
   "metadata": {},
   "outputs": [],
   "source": [
    "import networkx as nx\n",
    "import obonet\n",
    "import re"
   ]
  },
  {
   "cell_type": "markdown",
   "id": "c939c210-3230-461a-b552-a6dc24f5478b",
   "metadata": {},
   "source": [
    "<div class=\"alert alert-block alert-info\">\n",
    "    <h2>📥Download and load the ontology</h2>\n",
    "</div>"
   ]
  },
  {
   "cell_type": "code",
   "execution_count": 12,
   "id": "dcb1fcf1-0e06-45f5-880c-b176bc78b1e0",
   "metadata": {},
   "outputs": [
    {
     "name": "stdout",
     "output_type": "stream",
     "text": [
      "CPU times: user 6.16 s, sys: 225 ms, total: 6.38 s\n",
      "Wall time: 7.04 s\n"
     ]
    }
   ],
   "source": [
    "%%time\n",
    "url = 'http://current.geneontology.org/ontology/go.obo'\n",
    "graph = obonet.read_obo(url)"
   ]
  },
  {
   "cell_type": "markdown",
   "id": "9d3e3135-5bae-4a81-ba04-dd3d5cd4a093",
   "metadata": {},
   "source": [
    "<div class=\"alert alert-block alert-info\">\n",
    "    <h2>Map Ontology name and IDs</h2>\n",
    "</div>"
   ]
  },
  {
   "cell_type": "code",
   "execution_count": 13,
   "id": "9fd5d248-f53e-4ad7-bcbd-5e8f4b116ddf",
   "metadata": {},
   "outputs": [],
   "source": [
    "id_to_name = {id_: data.get('name') for id_, data in graph.nodes(data=True)}\n",
    "name_to_id = {data['name']: id_ for id_, data in graph.nodes(data=True) if 'name' in data}"
   ]
  },
  {
   "cell_type": "code",
   "execution_count": 14,
   "id": "245c3d9e-8850-4e9b-b83a-e478f059164f",
   "metadata": {},
   "outputs": [
    {
     "name": "stdout",
     "output_type": "stream",
     "text": [
      "43093\n",
      "87006\n"
     ]
    }
   ],
   "source": [
    "print(len(graph))\n",
    "print(graph.number_of_edges())"
   ]
  },
  {
   "cell_type": "markdown",
   "id": "102472a6-7feb-4eda-adef-7a6067f0ca7e",
   "metadata": {},
   "source": [
    "### Test the mapped dictionaly\n",
    "#### Find Parent"
   ]
  },
  {
   "cell_type": "code",
   "execution_count": 15,
   "id": "5ce9cc2b-505e-4e85-a7e0-25980cf24a07",
   "metadata": {},
   "outputs": [
    {
     "data": {
      "text/plain": [
       "['anatomical structure development',\n",
       " 'axon ensheathment',\n",
       " 'biological_process',\n",
       " 'cellular process',\n",
       " 'developmental process',\n",
       " 'ensheathment of neurons',\n",
       " 'multicellular organism development',\n",
       " 'multicellular organismal process',\n",
       " 'nervous system development',\n",
       " 'system development']"
      ]
     },
     "execution_count": 15,
     "metadata": {},
     "output_type": "execute_result"
    }
   ],
   "source": [
    "sorted(id_to_name[superterm] for superterm in nx.descendants(graph, 'GO:0042552'))"
   ]
  },
  {
   "cell_type": "markdown",
   "id": "b94854a0-4317-4262-b1b1-f7bced71f623",
   "metadata": {},
   "source": [
    "#### More test"
   ]
  },
  {
   "cell_type": "code",
   "execution_count": 16,
   "id": "44159835-ea66-4f38-a1ff-5dea0fe67de8",
   "metadata": {},
   "outputs": [
    {
     "name": "stdout",
     "output_type": "stream",
     "text": [
      "{'name': 'biological_process', 'namespace': 'biological_process', 'alt_id': ['GO:0000004', 'GO:0007582', 'GO:0044699'], 'def': '\"A biological process is the execution of a genetically-encoded biological module or program. It consists of all the steps required to achieve the specific biological objective of the module. A biological process is accomplished by a particular set of molecular functions carried out by specific gene products (or macromolecular complexes), often in a highly regulated manner and in a particular temporal sequence.\" [GOC:pdt]', 'comment': \"Note that, in addition to forming the root of the biological process ontology, this term is recommended for use for the annotation of gene products whose biological process is unknown. When this term is used for annotation, it indicates that no information was available about the biological process of the gene product annotated as of the date the annotation was made; the evidence code 'no data' (ND), is used to indicate this.\", 'subset': ['goslim_candida', 'goslim_chembl', 'goslim_metagenomics', 'goslim_pir', 'goslim_plant', 'goslim_pombe', 'goslim_yeast'], 'synonym': ['\"biological process\" EXACT []', '\"physiological process\" EXACT []', '\"single organism process\" RELATED []', '\"single-organism process\" RELATED []'], 'xref': ['Wikipedia:Biological_process'], 'property_value': ['term_tracker_item https://github.com/geneontology/go-ontology/issues/24968 xsd:anyURI'], 'created_by': 'jl', 'creation_date': '2012-09-19T15:05:24Z'}\n"
     ]
    },
    {
     "data": {
      "text/plain": [
       "'GO:0008150'"
      ]
     },
     "execution_count": 16,
     "metadata": {},
     "output_type": "execute_result"
    }
   ],
   "source": [
    "print(graph.nodes['GO:0008150'])\n",
    "id_to_name['GO:0008150'], \n",
    "name_to_id['biological_process']\n"
   ]
  },
  {
   "cell_type": "markdown",
   "id": "e3111b75-8d12-4ff5-bbf0-6836532fca96",
   "metadata": {},
   "source": [
    "<div class=\"alert alert-block alert-info\">\n",
    "    <h2>Select only *Biological process*</h2>\n",
    "</div>"
   ]
  },
  {
   "cell_type": "code",
   "execution_count": 17,
   "id": "3b834884-a93d-4389-baf7-a91675dff948",
   "metadata": {},
   "outputs": [
    {
     "data": {
      "text/plain": [
       "30049"
      ]
     },
     "execution_count": 17,
     "metadata": {},
     "output_type": "execute_result"
    }
   ],
   "source": [
    "Ontology = sorted(superterm for superterm in nx.ancestors(graph, name_to_id['biological_process']))\n",
    "len(Ontology)"
   ]
  },
  {
   "cell_type": "code",
   "execution_count": 18,
   "id": "d600af85-ea9e-490e-9e32-10f9bdb09739",
   "metadata": {},
   "outputs": [
    {
     "data": {
      "text/plain": [
       "{'name': 'mitochondrion inheritance',\n",
       " 'namespace': 'biological_process',\n",
       " 'def': '\"The distribution of mitochondria, including the mitochondrial genome, into daughter cells after mitosis or meiosis, mediated by interactions between mitochondria and the cytoskeleton.\" [GOC:mcc, PMID:10873824, PMID:11389764]',\n",
       " 'synonym': ['\"mitochondrial inheritance\" EXACT []'],\n",
       " 'is_a': ['GO:0048308', 'GO:0048311']}"
      ]
     },
     "execution_count": 18,
     "metadata": {},
     "output_type": "execute_result"
    }
   ],
   "source": [
    "graph.nodes[Ontology[0]]"
   ]
  },
  {
   "cell_type": "markdown",
   "id": "de15205c-3bac-49fa-a762-6ed4636c512e",
   "metadata": {},
   "source": [
    "<div class=\"alert alert-block alert-info\">\n",
    "    <h2>Write to .tsv file</h2>\n",
    "    Calculate distance of each node from the parent ('biological_process':'GO:0008150') and save Ontology in a tabular format.\n",
    "</div>"
   ]
  },
  {
   "cell_type": "markdown",
   "id": "e49e0718-673c-4493-b9c5-bc7895e9943a",
   "metadata": {},
   "source": [
    "1. **Load the Ontology.** The Ontology can be loaded in a variety of formats, such as JSON, XML, or text. Once the Ontology is loaded, it can be represented as a graph.\n",
    "2. **Find the parent node.** The parent node is the node that all other nodes in the graph are descended from. In this case, the parent node is 'biological_process':'GO:0008150'.\n",
    "3. **Calculate the distance of each node from the parent.** The distance of a node from the parent is the number of edges that must be traversed to reach the parent node. The distance can be calculated using a variety of algorithms, such as breadth-first search or depth-first search.\n",
    "4. **Save the Ontology in a tabular format.** The Ontology can be saved in a variety of formats, such as **TSV**, CSV, JSON, or XML. The tabular format will include the following columns:\n",
    "    * Node ID\n",
    "    * Node name\n",
    "    * Distance from parent\n",
    "\n",
    "The following is an example of a tabular representation of the Ontology:\n",
    "\n",
    "GO ID | Term Name | Definition | Distance from Root\n",
    "------- | -------- | -------- | --------\n",
    "GO:0000001 | mitochondrion | Organelle.. | 5\n",
    "GO:0000002 | mitochondrial | Part of.. | 4\n",
    "GO:0000003 | reproduction | Biological process... | 1\n",
    "GO:0000004 | biological | Process... | 0\n",
    "GO:0000005 | molecular | Function... | 0"
   ]
  },
  {
   "cell_type": "code",
   "execution_count": 19,
   "id": "b71c0f19-4c57-407f-96f4-49d41aa883bc",
   "metadata": {},
   "outputs": [
    {
     "name": "stdout",
     "output_type": "stream",
     "text": [
      "CPU times: user 9.99 s, sys: 42 ms, total: 10 s\n",
      "Wall time: 10.1 s\n"
     ]
    }
   ],
   "source": [
    "%%time\n",
    "\n",
    "temp = []\n",
    "out_file = \"GO_BP_Ontology_corups.tsv\" \n",
    "fh = open(out_file, \"w\") \n",
    "print(\"GO\", \"Name\", \"Definition\", 'Depth', sep=\"\\t\", file=fh)\n",
    "\n",
    "def GO_def(GO, Parent):\n",
    "    name = graph.nodes[GO][\"name\"]\n",
    "    Depth = nx.shortest_path_length(graph, GO)[Parent]\n",
    "    if not name.endswith(\".\"):name += \".\"\n",
    "    defs = [\"\"]\n",
    "    if \"def\" in graph.nodes[GO]:\n",
    "        defs = graph.nodes[GO][\"def\"].split('\"')[1].split(\". \")\n",
    "    for Def in defs:\n",
    "        \n",
    "        if not Def.endswith(\".\"):Def += \".\"        \n",
    "        if Def not in temp and len(Def.split()) > 3:\n",
    "            temp.append(Def)\n",
    "            print(GO, name, Def, Depth, sep=\"\\t\", file=fh)\n",
    "\n",
    "for i in range(len(Ontology)):\n",
    "    GO_def(Ontology[i], \"GO:0008150\")\n",
    "fh.close()"
   ]
  }
 ],
 "metadata": {
  "kernelspec": {
   "display_name": "sparknlp",
   "language": "python",
   "name": "sparknlp"
  },
  "language_info": {
   "codemirror_mode": {
    "name": "ipython",
    "version": 3
   },
   "file_extension": ".py",
   "mimetype": "text/x-python",
   "name": "python",
   "nbconvert_exporter": "python",
   "pygments_lexer": "ipython3",
   "version": "3.8.15"
  }
 },
 "nbformat": 4,
 "nbformat_minor": 5
}
